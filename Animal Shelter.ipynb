{
 "cells": [
  {
   "cell_type": "markdown",
   "metadata": {},
   "source": [
    "# Predicting shelter animals' fate "
   ]
  },
  {
   "cell_type": "markdown",
   "metadata": {},
   "source": [
    "This Notebook explores the `Shelter Animal Outcomes` dataset, published for a [Kaggle competition](https://www.kaggle.com/c/shelter-animal-outcomes/data). It is used for predicting the fate of shelter animals. \n",
    "\n",
    "It is explained that every year, approximately 7.6 million companion animals end up in US shelters. Many are given up as unwanted by their owners, while others are picked up after getting lost or taken out of cruelty situations. Dataset authors belive that it can help for understanding trends in animal outcomes. These insights could help shelters focus their energy on specific animals who need a little extra help for finding a new home. \n",
    "\n",
    "Kaggle's data contain training and testing sets with information from October 1st, 2013 to March, 2016. There is a sample sumbission form, too. These files are explored below; it is assumed that features such as pet's age, gender, breed, and color could predict its fate, e.g., handed for adoption, returned to owners, etc. Therefore, more than 2 possible outcomes suggests a multiclass classification tasks; a solution was sought by applying several machine learning algorithms. \n",
    "\n",
    "The work is organised in chapters and sub-chapters, each devoted to a particular task."
   ]
  },
  {
   "cell_type": "markdown",
   "metadata": {},
   "source": [
    "#### Imports"
   ]
  },
  {
   "cell_type": "code",
   "execution_count": 1,
   "metadata": {},
   "outputs": [],
   "source": [
    "%matplotlib inline"
   ]
  },
  {
   "cell_type": "code",
   "execution_count": 2,
   "metadata": {},
   "outputs": [],
   "source": [
    "import numpy as np\n",
    "import pandas as pd\n",
    "import matplotlib.pyplot as plt\n",
    "import seaborn as sns\n",
    "from collections import Counter"
   ]
  },
  {
   "cell_type": "code",
   "execution_count": 3,
   "metadata": {},
   "outputs": [],
   "source": [
    "from sklearn.preprocessing import MinMaxScaler, LabelEncoder\n",
    "from sklearn.metrics import make_scorer, f1_score, accuracy_score\n",
    "from sklearn.model_selection import train_test_split, GridSearchCV\n",
    "from sklearn.pipeline import Pipeline\n",
    "from sklearn.linear_model import LogisticRegression\n",
    "from sklearn.svm import SVC\n",
    "from sklearn.tree import DecisionTreeClassifier\n",
    "from sklearn.ensemble import RandomForestClassifier, AdaBoostClassifier"
   ]
  },
  {
   "cell_type": "code",
   "execution_count": 4,
   "metadata": {},
   "outputs": [],
   "source": [
    "pd.options.mode.chained_assignment = None"
   ]
  },
  {
   "cell_type": "markdown",
   "metadata": {},
   "source": [
    "## I. Load data\n",
    "### I.1. Train dataset"
   ]
  },
  {
   "cell_type": "markdown",
   "metadata": {},
   "source": [
    "The dataset was downloaded from Kaggle to a local machine and stored in a folder. Thereafter, the train data were loaded and stored in `train_data`. The first 5 rows are printed below."
   ]
  },
  {
   "cell_type": "code",
   "execution_count": 5,
   "metadata": {},
   "outputs": [],
   "source": [
    "train_data = pd.read_csv(\"data/train.csv\")"
   ]
  },
  {
   "cell_type": "code",
   "execution_count": 6,
   "metadata": {},
   "outputs": [
    {
     "data": {
      "text/html": [
       "<div>\n",
       "<style scoped>\n",
       "    .dataframe tbody tr th:only-of-type {\n",
       "        vertical-align: middle;\n",
       "    }\n",
       "\n",
       "    .dataframe tbody tr th {\n",
       "        vertical-align: top;\n",
       "    }\n",
       "\n",
       "    .dataframe thead th {\n",
       "        text-align: right;\n",
       "    }\n",
       "</style>\n",
       "<table border=\"1\" class=\"dataframe\">\n",
       "  <thead>\n",
       "    <tr style=\"text-align: right;\">\n",
       "      <th></th>\n",
       "      <th>AnimalID</th>\n",
       "      <th>Name</th>\n",
       "      <th>DateTime</th>\n",
       "      <th>OutcomeType</th>\n",
       "      <th>OutcomeSubtype</th>\n",
       "      <th>AnimalType</th>\n",
       "      <th>SexuponOutcome</th>\n",
       "      <th>AgeuponOutcome</th>\n",
       "      <th>Breed</th>\n",
       "      <th>Color</th>\n",
       "    </tr>\n",
       "  </thead>\n",
       "  <tbody>\n",
       "    <tr>\n",
       "      <th>0</th>\n",
       "      <td>A671945</td>\n",
       "      <td>Hambone</td>\n",
       "      <td>2014-02-12 18:22:00</td>\n",
       "      <td>Return_to_owner</td>\n",
       "      <td>NaN</td>\n",
       "      <td>Dog</td>\n",
       "      <td>Neutered Male</td>\n",
       "      <td>1 year</td>\n",
       "      <td>Shetland Sheepdog Mix</td>\n",
       "      <td>Brown/White</td>\n",
       "    </tr>\n",
       "    <tr>\n",
       "      <th>1</th>\n",
       "      <td>A656520</td>\n",
       "      <td>Emily</td>\n",
       "      <td>2013-10-13 12:44:00</td>\n",
       "      <td>Euthanasia</td>\n",
       "      <td>Suffering</td>\n",
       "      <td>Cat</td>\n",
       "      <td>Spayed Female</td>\n",
       "      <td>1 year</td>\n",
       "      <td>Domestic Shorthair Mix</td>\n",
       "      <td>Cream Tabby</td>\n",
       "    </tr>\n",
       "    <tr>\n",
       "      <th>2</th>\n",
       "      <td>A686464</td>\n",
       "      <td>Pearce</td>\n",
       "      <td>2015-01-31 12:28:00</td>\n",
       "      <td>Adoption</td>\n",
       "      <td>Foster</td>\n",
       "      <td>Dog</td>\n",
       "      <td>Neutered Male</td>\n",
       "      <td>2 years</td>\n",
       "      <td>Pit Bull Mix</td>\n",
       "      <td>Blue/White</td>\n",
       "    </tr>\n",
       "    <tr>\n",
       "      <th>3</th>\n",
       "      <td>A683430</td>\n",
       "      <td>NaN</td>\n",
       "      <td>2014-07-11 19:09:00</td>\n",
       "      <td>Transfer</td>\n",
       "      <td>Partner</td>\n",
       "      <td>Cat</td>\n",
       "      <td>Intact Male</td>\n",
       "      <td>3 weeks</td>\n",
       "      <td>Domestic Shorthair Mix</td>\n",
       "      <td>Blue Cream</td>\n",
       "    </tr>\n",
       "    <tr>\n",
       "      <th>4</th>\n",
       "      <td>A667013</td>\n",
       "      <td>NaN</td>\n",
       "      <td>2013-11-15 12:52:00</td>\n",
       "      <td>Transfer</td>\n",
       "      <td>Partner</td>\n",
       "      <td>Dog</td>\n",
       "      <td>Neutered Male</td>\n",
       "      <td>2 years</td>\n",
       "      <td>Lhasa Apso/Miniature Poodle</td>\n",
       "      <td>Tan</td>\n",
       "    </tr>\n",
       "  </tbody>\n",
       "</table>\n",
       "</div>"
      ],
      "text/plain": [
       "  AnimalID     Name             DateTime      OutcomeType OutcomeSubtype  \\\n",
       "0  A671945  Hambone  2014-02-12 18:22:00  Return_to_owner            NaN   \n",
       "1  A656520    Emily  2013-10-13 12:44:00       Euthanasia      Suffering   \n",
       "2  A686464   Pearce  2015-01-31 12:28:00         Adoption         Foster   \n",
       "3  A683430      NaN  2014-07-11 19:09:00         Transfer        Partner   \n",
       "4  A667013      NaN  2013-11-15 12:52:00         Transfer        Partner   \n",
       "\n",
       "  AnimalType SexuponOutcome AgeuponOutcome                        Breed  \\\n",
       "0        Dog  Neutered Male         1 year        Shetland Sheepdog Mix   \n",
       "1        Cat  Spayed Female         1 year       Domestic Shorthair Mix   \n",
       "2        Dog  Neutered Male        2 years                 Pit Bull Mix   \n",
       "3        Cat    Intact Male        3 weeks       Domestic Shorthair Mix   \n",
       "4        Dog  Neutered Male        2 years  Lhasa Apso/Miniature Poodle   \n",
       "\n",
       "         Color  \n",
       "0  Brown/White  \n",
       "1  Cream Tabby  \n",
       "2   Blue/White  \n",
       "3   Blue Cream  \n",
       "4          Tan  "
      ]
     },
     "execution_count": 6,
     "metadata": {},
     "output_type": "execute_result"
    }
   ],
   "source": [
    "train_data.head()"
   ]
  },
  {
   "cell_type": "markdown",
   "metadata": {},
   "source": [
    "The train dataset has 26729 entries (rows) and 10 categorical features (columns)."
   ]
  },
  {
   "cell_type": "code",
   "execution_count": 7,
   "metadata": {},
   "outputs": [
    {
     "data": {
      "text/plain": [
       "(26729, 10)"
      ]
     },
     "execution_count": 7,
     "metadata": {},
     "output_type": "execute_result"
    }
   ],
   "source": [
    "train_data.shape"
   ]
  },
  {
   "cell_type": "markdown",
   "metadata": {},
   "source": [
    "### I.2. Test dataset"
   ]
  },
  {
   "cell_type": "markdown",
   "metadata": {},
   "source": [
    "Similarly, the test data were loaded and stored in `test_data`. A brief check shows that besides \"OutcomeType\" (which would be the `labels` column), it lacks \"AnimalID\" and \"OutcomeSubtype\" features. It could be assumed that the former is a unique number each pet gets when admitted to the shelter, and the latter provides additional information about an animal's fate. On the other hand, the testing dataset has an \"ID\" column, which misses in the training data."
   ]
  },
  {
   "cell_type": "code",
   "execution_count": 8,
   "metadata": {},
   "outputs": [],
   "source": [
    "test_data = pd.read_csv(\"data/test.csv\")"
   ]
  },
  {
   "cell_type": "code",
   "execution_count": 9,
   "metadata": {},
   "outputs": [
    {
     "data": {
      "text/html": [
       "<div>\n",
       "<style scoped>\n",
       "    .dataframe tbody tr th:only-of-type {\n",
       "        vertical-align: middle;\n",
       "    }\n",
       "\n",
       "    .dataframe tbody tr th {\n",
       "        vertical-align: top;\n",
       "    }\n",
       "\n",
       "    .dataframe thead th {\n",
       "        text-align: right;\n",
       "    }\n",
       "</style>\n",
       "<table border=\"1\" class=\"dataframe\">\n",
       "  <thead>\n",
       "    <tr style=\"text-align: right;\">\n",
       "      <th></th>\n",
       "      <th>ID</th>\n",
       "      <th>Name</th>\n",
       "      <th>DateTime</th>\n",
       "      <th>AnimalType</th>\n",
       "      <th>SexuponOutcome</th>\n",
       "      <th>AgeuponOutcome</th>\n",
       "      <th>Breed</th>\n",
       "      <th>Color</th>\n",
       "    </tr>\n",
       "  </thead>\n",
       "  <tbody>\n",
       "    <tr>\n",
       "      <th>0</th>\n",
       "      <td>1</td>\n",
       "      <td>Summer</td>\n",
       "      <td>2015-10-12 12:15:00</td>\n",
       "      <td>Dog</td>\n",
       "      <td>Intact Female</td>\n",
       "      <td>10 months</td>\n",
       "      <td>Labrador Retriever Mix</td>\n",
       "      <td>Red/White</td>\n",
       "    </tr>\n",
       "    <tr>\n",
       "      <th>1</th>\n",
       "      <td>2</td>\n",
       "      <td>Cheyenne</td>\n",
       "      <td>2014-07-26 17:59:00</td>\n",
       "      <td>Dog</td>\n",
       "      <td>Spayed Female</td>\n",
       "      <td>2 years</td>\n",
       "      <td>German Shepherd/Siberian Husky</td>\n",
       "      <td>Black/Tan</td>\n",
       "    </tr>\n",
       "    <tr>\n",
       "      <th>2</th>\n",
       "      <td>3</td>\n",
       "      <td>Gus</td>\n",
       "      <td>2016-01-13 12:20:00</td>\n",
       "      <td>Cat</td>\n",
       "      <td>Neutered Male</td>\n",
       "      <td>1 year</td>\n",
       "      <td>Domestic Shorthair Mix</td>\n",
       "      <td>Brown Tabby</td>\n",
       "    </tr>\n",
       "    <tr>\n",
       "      <th>3</th>\n",
       "      <td>4</td>\n",
       "      <td>Pongo</td>\n",
       "      <td>2013-12-28 18:12:00</td>\n",
       "      <td>Dog</td>\n",
       "      <td>Intact Male</td>\n",
       "      <td>4 months</td>\n",
       "      <td>Collie Smooth Mix</td>\n",
       "      <td>Tricolor</td>\n",
       "    </tr>\n",
       "    <tr>\n",
       "      <th>4</th>\n",
       "      <td>5</td>\n",
       "      <td>Skooter</td>\n",
       "      <td>2015-09-24 17:59:00</td>\n",
       "      <td>Dog</td>\n",
       "      <td>Neutered Male</td>\n",
       "      <td>2 years</td>\n",
       "      <td>Miniature Poodle Mix</td>\n",
       "      <td>White</td>\n",
       "    </tr>\n",
       "  </tbody>\n",
       "</table>\n",
       "</div>"
      ],
      "text/plain": [
       "   ID      Name             DateTime AnimalType SexuponOutcome AgeuponOutcome  \\\n",
       "0   1    Summer  2015-10-12 12:15:00        Dog  Intact Female      10 months   \n",
       "1   2  Cheyenne  2014-07-26 17:59:00        Dog  Spayed Female        2 years   \n",
       "2   3       Gus  2016-01-13 12:20:00        Cat  Neutered Male         1 year   \n",
       "3   4     Pongo  2013-12-28 18:12:00        Dog    Intact Male       4 months   \n",
       "4   5   Skooter  2015-09-24 17:59:00        Dog  Neutered Male        2 years   \n",
       "\n",
       "                            Breed        Color  \n",
       "0          Labrador Retriever Mix    Red/White  \n",
       "1  German Shepherd/Siberian Husky    Black/Tan  \n",
       "2          Domestic Shorthair Mix  Brown Tabby  \n",
       "3               Collie Smooth Mix     Tricolor  \n",
       "4            Miniature Poodle Mix        White  "
      ]
     },
     "execution_count": 9,
     "metadata": {},
     "output_type": "execute_result"
    }
   ],
   "source": [
    "test_data.head()"
   ]
  },
  {
   "cell_type": "markdown",
   "metadata": {},
   "source": [
    "There are 11456 testing entries, described with 8 features."
   ]
  },
  {
   "cell_type": "code",
   "execution_count": 10,
   "metadata": {},
   "outputs": [
    {
     "data": {
      "text/plain": [
       "(11456, 8)"
      ]
     },
     "execution_count": 10,
     "metadata": {},
     "output_type": "execute_result"
    }
   ],
   "source": [
    "test_data.shape"
   ]
  },
  {
   "cell_type": "markdown",
   "metadata": {},
   "source": [
    "### I.3. Sample submission"
   ]
  },
  {
   "cell_type": "markdown",
   "metadata": {},
   "source": [
    "Kaggle provided a template for submitting predictions. Its first 5 rows are displayed below."
   ]
  },
  {
   "cell_type": "code",
   "execution_count": 11,
   "metadata": {},
   "outputs": [],
   "source": [
    "sample_sumbission = pd.read_csv(\"data/sample_submission.csv\")"
   ]
  },
  {
   "cell_type": "code",
   "execution_count": 12,
   "metadata": {},
   "outputs": [
    {
     "data": {
      "text/html": [
       "<div>\n",
       "<style scoped>\n",
       "    .dataframe tbody tr th:only-of-type {\n",
       "        vertical-align: middle;\n",
       "    }\n",
       "\n",
       "    .dataframe tbody tr th {\n",
       "        vertical-align: top;\n",
       "    }\n",
       "\n",
       "    .dataframe thead th {\n",
       "        text-align: right;\n",
       "    }\n",
       "</style>\n",
       "<table border=\"1\" class=\"dataframe\">\n",
       "  <thead>\n",
       "    <tr style=\"text-align: right;\">\n",
       "      <th></th>\n",
       "      <th>ID</th>\n",
       "      <th>Adoption</th>\n",
       "      <th>Died</th>\n",
       "      <th>Euthanasia</th>\n",
       "      <th>Return_to_owner</th>\n",
       "      <th>Transfer</th>\n",
       "    </tr>\n",
       "  </thead>\n",
       "  <tbody>\n",
       "    <tr>\n",
       "      <th>0</th>\n",
       "      <td>1</td>\n",
       "      <td>1</td>\n",
       "      <td>0</td>\n",
       "      <td>0</td>\n",
       "      <td>0</td>\n",
       "      <td>0</td>\n",
       "    </tr>\n",
       "    <tr>\n",
       "      <th>1</th>\n",
       "      <td>2</td>\n",
       "      <td>1</td>\n",
       "      <td>0</td>\n",
       "      <td>0</td>\n",
       "      <td>0</td>\n",
       "      <td>0</td>\n",
       "    </tr>\n",
       "    <tr>\n",
       "      <th>2</th>\n",
       "      <td>3</td>\n",
       "      <td>1</td>\n",
       "      <td>0</td>\n",
       "      <td>0</td>\n",
       "      <td>0</td>\n",
       "      <td>0</td>\n",
       "    </tr>\n",
       "    <tr>\n",
       "      <th>3</th>\n",
       "      <td>4</td>\n",
       "      <td>1</td>\n",
       "      <td>0</td>\n",
       "      <td>0</td>\n",
       "      <td>0</td>\n",
       "      <td>0</td>\n",
       "    </tr>\n",
       "    <tr>\n",
       "      <th>4</th>\n",
       "      <td>5</td>\n",
       "      <td>1</td>\n",
       "      <td>0</td>\n",
       "      <td>0</td>\n",
       "      <td>0</td>\n",
       "      <td>0</td>\n",
       "    </tr>\n",
       "  </tbody>\n",
       "</table>\n",
       "</div>"
      ],
      "text/plain": [
       "   ID  Adoption  Died  Euthanasia  Return_to_owner  Transfer\n",
       "0   1         1     0           0                0         0\n",
       "1   2         1     0           0                0         0\n",
       "2   3         1     0           0                0         0\n",
       "3   4         1     0           0                0         0\n",
       "4   5         1     0           0                0         0"
      ]
     },
     "execution_count": 12,
     "metadata": {},
     "output_type": "execute_result"
    }
   ],
   "source": [
    "sample_sumbission.head()"
   ]
  },
  {
   "cell_type": "markdown",
   "metadata": {},
   "source": [
    "## II. Exploratory Data Analysis. Cleaning data"
   ]
  },
  {
   "cell_type": "markdown",
   "metadata": {},
   "source": [
    "A quick training data summary is displayed below. Figures in \"count\" indicate that some features has a lot of missing values, which are handled in subsequent sub-chapters."
   ]
  },
  {
   "cell_type": "code",
   "execution_count": 13,
   "metadata": {},
   "outputs": [
    {
     "data": {
      "text/html": [
       "<div>\n",
       "<style scoped>\n",
       "    .dataframe tbody tr th:only-of-type {\n",
       "        vertical-align: middle;\n",
       "    }\n",
       "\n",
       "    .dataframe tbody tr th {\n",
       "        vertical-align: top;\n",
       "    }\n",
       "\n",
       "    .dataframe thead th {\n",
       "        text-align: right;\n",
       "    }\n",
       "</style>\n",
       "<table border=\"1\" class=\"dataframe\">\n",
       "  <thead>\n",
       "    <tr style=\"text-align: right;\">\n",
       "      <th></th>\n",
       "      <th>count</th>\n",
       "      <th>unique</th>\n",
       "      <th>top</th>\n",
       "      <th>freq</th>\n",
       "    </tr>\n",
       "  </thead>\n",
       "  <tbody>\n",
       "    <tr>\n",
       "      <th>AnimalID</th>\n",
       "      <td>26729</td>\n",
       "      <td>26729</td>\n",
       "      <td>A688558</td>\n",
       "      <td>1</td>\n",
       "    </tr>\n",
       "    <tr>\n",
       "      <th>Name</th>\n",
       "      <td>19038</td>\n",
       "      <td>6374</td>\n",
       "      <td>Max</td>\n",
       "      <td>136</td>\n",
       "    </tr>\n",
       "    <tr>\n",
       "      <th>DateTime</th>\n",
       "      <td>26729</td>\n",
       "      <td>22918</td>\n",
       "      <td>2015-08-11 00:00:00</td>\n",
       "      <td>19</td>\n",
       "    </tr>\n",
       "    <tr>\n",
       "      <th>OutcomeType</th>\n",
       "      <td>26729</td>\n",
       "      <td>5</td>\n",
       "      <td>Adoption</td>\n",
       "      <td>10769</td>\n",
       "    </tr>\n",
       "    <tr>\n",
       "      <th>OutcomeSubtype</th>\n",
       "      <td>13117</td>\n",
       "      <td>16</td>\n",
       "      <td>Partner</td>\n",
       "      <td>7816</td>\n",
       "    </tr>\n",
       "    <tr>\n",
       "      <th>AnimalType</th>\n",
       "      <td>26729</td>\n",
       "      <td>2</td>\n",
       "      <td>Dog</td>\n",
       "      <td>15595</td>\n",
       "    </tr>\n",
       "    <tr>\n",
       "      <th>SexuponOutcome</th>\n",
       "      <td>26728</td>\n",
       "      <td>5</td>\n",
       "      <td>Neutered Male</td>\n",
       "      <td>9779</td>\n",
       "    </tr>\n",
       "    <tr>\n",
       "      <th>AgeuponOutcome</th>\n",
       "      <td>26711</td>\n",
       "      <td>44</td>\n",
       "      <td>1 year</td>\n",
       "      <td>3969</td>\n",
       "    </tr>\n",
       "    <tr>\n",
       "      <th>Breed</th>\n",
       "      <td>26729</td>\n",
       "      <td>1380</td>\n",
       "      <td>Domestic Shorthair Mix</td>\n",
       "      <td>8810</td>\n",
       "    </tr>\n",
       "    <tr>\n",
       "      <th>Color</th>\n",
       "      <td>26729</td>\n",
       "      <td>366</td>\n",
       "      <td>Black/White</td>\n",
       "      <td>2824</td>\n",
       "    </tr>\n",
       "  </tbody>\n",
       "</table>\n",
       "</div>"
      ],
      "text/plain": [
       "                count unique                     top   freq\n",
       "AnimalID        26729  26729                 A688558      1\n",
       "Name            19038   6374                     Max    136\n",
       "DateTime        26729  22918     2015-08-11 00:00:00     19\n",
       "OutcomeType     26729      5                Adoption  10769\n",
       "OutcomeSubtype  13117     16                 Partner   7816\n",
       "AnimalType      26729      2                     Dog  15595\n",
       "SexuponOutcome  26728      5           Neutered Male   9779\n",
       "AgeuponOutcome  26711     44                  1 year   3969\n",
       "Breed           26729   1380  Domestic Shorthair Mix   8810\n",
       "Color           26729    366             Black/White   2824"
      ]
     },
     "execution_count": 13,
     "metadata": {},
     "output_type": "execute_result"
    }
   ],
   "source": [
    "train_data.describe().T"
   ]
  },
  {
   "cell_type": "markdown",
   "metadata": {},
   "source": [
    "### II.1 Insert `ID` column in Train data"
   ]
  },
  {
   "cell_type": "markdown",
   "metadata": {},
   "source": [
    "It is important both training and testing data to have identical features. Otherwise, any machine learning algorithm will throw a shape error. For this reason, the code line below inserts an \"ID\" column with values starting from 1 (as those in the testing set)."
   ]
  },
  {
   "cell_type": "code",
   "execution_count": 14,
   "metadata": {},
   "outputs": [],
   "source": [
    "train_data.insert(0, \"ID\", range(1, 1 + len(train_data)))"
   ]
  },
  {
   "cell_type": "code",
   "execution_count": 15,
   "metadata": {},
   "outputs": [
    {
     "data": {
      "text/html": [
       "<div>\n",
       "<style scoped>\n",
       "    .dataframe tbody tr th:only-of-type {\n",
       "        vertical-align: middle;\n",
       "    }\n",
       "\n",
       "    .dataframe tbody tr th {\n",
       "        vertical-align: top;\n",
       "    }\n",
       "\n",
       "    .dataframe thead th {\n",
       "        text-align: right;\n",
       "    }\n",
       "</style>\n",
       "<table border=\"1\" class=\"dataframe\">\n",
       "  <thead>\n",
       "    <tr style=\"text-align: right;\">\n",
       "      <th></th>\n",
       "      <th>ID</th>\n",
       "      <th>AnimalID</th>\n",
       "      <th>Name</th>\n",
       "      <th>DateTime</th>\n",
       "      <th>OutcomeType</th>\n",
       "      <th>OutcomeSubtype</th>\n",
       "      <th>AnimalType</th>\n",
       "      <th>SexuponOutcome</th>\n",
       "      <th>AgeuponOutcome</th>\n",
       "      <th>Breed</th>\n",
       "      <th>Color</th>\n",
       "    </tr>\n",
       "  </thead>\n",
       "  <tbody>\n",
       "    <tr>\n",
       "      <th>0</th>\n",
       "      <td>1</td>\n",
       "      <td>A671945</td>\n",
       "      <td>Hambone</td>\n",
       "      <td>2014-02-12 18:22:00</td>\n",
       "      <td>Return_to_owner</td>\n",
       "      <td>NaN</td>\n",
       "      <td>Dog</td>\n",
       "      <td>Neutered Male</td>\n",
       "      <td>1 year</td>\n",
       "      <td>Shetland Sheepdog Mix</td>\n",
       "      <td>Brown/White</td>\n",
       "    </tr>\n",
       "    <tr>\n",
       "      <th>1</th>\n",
       "      <td>2</td>\n",
       "      <td>A656520</td>\n",
       "      <td>Emily</td>\n",
       "      <td>2013-10-13 12:44:00</td>\n",
       "      <td>Euthanasia</td>\n",
       "      <td>Suffering</td>\n",
       "      <td>Cat</td>\n",
       "      <td>Spayed Female</td>\n",
       "      <td>1 year</td>\n",
       "      <td>Domestic Shorthair Mix</td>\n",
       "      <td>Cream Tabby</td>\n",
       "    </tr>\n",
       "    <tr>\n",
       "      <th>2</th>\n",
       "      <td>3</td>\n",
       "      <td>A686464</td>\n",
       "      <td>Pearce</td>\n",
       "      <td>2015-01-31 12:28:00</td>\n",
       "      <td>Adoption</td>\n",
       "      <td>Foster</td>\n",
       "      <td>Dog</td>\n",
       "      <td>Neutered Male</td>\n",
       "      <td>2 years</td>\n",
       "      <td>Pit Bull Mix</td>\n",
       "      <td>Blue/White</td>\n",
       "    </tr>\n",
       "    <tr>\n",
       "      <th>3</th>\n",
       "      <td>4</td>\n",
       "      <td>A683430</td>\n",
       "      <td>NaN</td>\n",
       "      <td>2014-07-11 19:09:00</td>\n",
       "      <td>Transfer</td>\n",
       "      <td>Partner</td>\n",
       "      <td>Cat</td>\n",
       "      <td>Intact Male</td>\n",
       "      <td>3 weeks</td>\n",
       "      <td>Domestic Shorthair Mix</td>\n",
       "      <td>Blue Cream</td>\n",
       "    </tr>\n",
       "    <tr>\n",
       "      <th>4</th>\n",
       "      <td>5</td>\n",
       "      <td>A667013</td>\n",
       "      <td>NaN</td>\n",
       "      <td>2013-11-15 12:52:00</td>\n",
       "      <td>Transfer</td>\n",
       "      <td>Partner</td>\n",
       "      <td>Dog</td>\n",
       "      <td>Neutered Male</td>\n",
       "      <td>2 years</td>\n",
       "      <td>Lhasa Apso/Miniature Poodle</td>\n",
       "      <td>Tan</td>\n",
       "    </tr>\n",
       "  </tbody>\n",
       "</table>\n",
       "</div>"
      ],
      "text/plain": [
       "   ID AnimalID     Name             DateTime      OutcomeType OutcomeSubtype  \\\n",
       "0   1  A671945  Hambone  2014-02-12 18:22:00  Return_to_owner            NaN   \n",
       "1   2  A656520    Emily  2013-10-13 12:44:00       Euthanasia      Suffering   \n",
       "2   3  A686464   Pearce  2015-01-31 12:28:00         Adoption         Foster   \n",
       "3   4  A683430      NaN  2014-07-11 19:09:00         Transfer        Partner   \n",
       "4   5  A667013      NaN  2013-11-15 12:52:00         Transfer        Partner   \n",
       "\n",
       "  AnimalType SexuponOutcome AgeuponOutcome                        Breed  \\\n",
       "0        Dog  Neutered Male         1 year        Shetland Sheepdog Mix   \n",
       "1        Cat  Spayed Female         1 year       Domestic Shorthair Mix   \n",
       "2        Dog  Neutered Male        2 years                 Pit Bull Mix   \n",
       "3        Cat    Intact Male        3 weeks       Domestic Shorthair Mix   \n",
       "4        Dog  Neutered Male        2 years  Lhasa Apso/Miniature Poodle   \n",
       "\n",
       "         Color  \n",
       "0  Brown/White  \n",
       "1  Cream Tabby  \n",
       "2   Blue/White  \n",
       "3   Blue Cream  \n",
       "4          Tan  "
      ]
     },
     "execution_count": 15,
     "metadata": {},
     "output_type": "execute_result"
    }
   ],
   "source": [
    "train_data.head()"
   ]
  },
  {
   "cell_type": "markdown",
   "metadata": {},
   "source": [
    "### II. 2. Remove unnecessary columns"
   ]
  },
  {
   "cell_type": "markdown",
   "metadata": {},
   "source": [
    "Testing data doesn't have \"OutcomeSubtype\". The latter contains additional information about outcomes: some adopted pets went to foster homes or barns; some died at the veterinary clinic, others were euthanised because were too agressive or ill. This information misses in the testing data and cannot be infered from \"OutcomeType\". For this reason, along with \"AnimalID\", \"OutcomeSubtype\" was also removed."
   ]
  },
  {
   "cell_type": "code",
   "execution_count": 16,
   "metadata": {},
   "outputs": [
    {
     "data": {
      "text/html": [
       "<div>\n",
       "<style scoped>\n",
       "    .dataframe tbody tr th:only-of-type {\n",
       "        vertical-align: middle;\n",
       "    }\n",
       "\n",
       "    .dataframe tbody tr th {\n",
       "        vertical-align: top;\n",
       "    }\n",
       "\n",
       "    .dataframe thead th {\n",
       "        text-align: right;\n",
       "    }\n",
       "</style>\n",
       "<table border=\"1\" class=\"dataframe\">\n",
       "  <thead>\n",
       "    <tr style=\"text-align: right;\">\n",
       "      <th></th>\n",
       "      <th>OutcomeType</th>\n",
       "      <th>OutcomeSubtype</th>\n",
       "    </tr>\n",
       "  </thead>\n",
       "  <tbody>\n",
       "    <tr>\n",
       "      <th>0</th>\n",
       "      <td>Adoption</td>\n",
       "      <td>[Foster, nan, Offsite, Barn]</td>\n",
       "    </tr>\n",
       "    <tr>\n",
       "      <th>1</th>\n",
       "      <td>Died</td>\n",
       "      <td>[In Kennel, In Foster, nan, Enroute, At Vet, I...</td>\n",
       "    </tr>\n",
       "    <tr>\n",
       "      <th>2</th>\n",
       "      <td>Euthanasia</td>\n",
       "      <td>[Suffering, Aggressive, Behavior, Rabies Risk,...</td>\n",
       "    </tr>\n",
       "    <tr>\n",
       "      <th>3</th>\n",
       "      <td>Return_to_owner</td>\n",
       "      <td>[nan]</td>\n",
       "    </tr>\n",
       "    <tr>\n",
       "      <th>4</th>\n",
       "      <td>Transfer</td>\n",
       "      <td>[Partner, SCRP, Barn, nan]</td>\n",
       "    </tr>\n",
       "  </tbody>\n",
       "</table>\n",
       "</div>"
      ],
      "text/plain": [
       "       OutcomeType                                     OutcomeSubtype\n",
       "0         Adoption                       [Foster, nan, Offsite, Barn]\n",
       "1             Died  [In Kennel, In Foster, nan, Enroute, At Vet, I...\n",
       "2       Euthanasia  [Suffering, Aggressive, Behavior, Rabies Risk,...\n",
       "3  Return_to_owner                                              [nan]\n",
       "4         Transfer                         [Partner, SCRP, Barn, nan]"
      ]
     },
     "execution_count": 16,
     "metadata": {},
     "output_type": "execute_result"
    }
   ],
   "source": [
    "train_data.groupby(\"OutcomeType\").OutcomeSubtype.unique().reset_index()"
   ]
  },
  {
   "cell_type": "code",
   "execution_count": 17,
   "metadata": {},
   "outputs": [],
   "source": [
    "train_data.drop([\"AnimalID\", \"OutcomeSubtype\"], axis = 1, inplace = True)"
   ]
  },
  {
   "cell_type": "markdown",
   "metadata": {},
   "source": [
    "### II.3. Explore and clean columns\n",
    "#### II.3.a. `DateTime` column"
   ]
  },
  {
   "cell_type": "markdown",
   "metadata": {},
   "source": [
    "`DateTime` information is provided in the following format: *YYYY-MM-DD HH:MM:SS*. It could be assumed that a public campaign held somewhere in 2014, for example, could have led to higher pet adoption rates. However, dates and time could hardly affect a shelter outcome. For this reason, only years and months were kept in the data. The function below extracts useful information and add it to the table."
   ]
  },
  {
   "cell_type": "code",
   "execution_count": 18,
   "metadata": {},
   "outputs": [],
   "source": [
    "def format_time(dataset):\n",
    "    \"\"\"\n",
    "    Function: Extracts year and month from \"DateTime\" and removes \"DateTime\"\n",
    "    \n",
    "    Arguments: Dataset with \"DateTime\" column\n",
    "    \n",
    "    Returns: Dataset with \"year\" and \"month\"\n",
    "    \"\"\"\n",
    "    dataset[[\"year\", \"month\", \"day_hour\"]] = dataset[\"DateTime\"].str.split(\"-\", expand = True)\n",
    "    dataset.drop([\"DateTime\", \"day_hour\"], axis = 1, inplace = True)\n",
    "    \n",
    "    return dataset"
   ]
  },
  {
   "cell_type": "code",
   "execution_count": 19,
   "metadata": {},
   "outputs": [],
   "source": [
    "train_data = format_time(train_data)\n",
    "test_data = format_time(test_data)"
   ]
  },
  {
   "cell_type": "code",
   "execution_count": 20,
   "metadata": {},
   "outputs": [
    {
     "data": {
      "text/html": [
       "<div>\n",
       "<style scoped>\n",
       "    .dataframe tbody tr th:only-of-type {\n",
       "        vertical-align: middle;\n",
       "    }\n",
       "\n",
       "    .dataframe tbody tr th {\n",
       "        vertical-align: top;\n",
       "    }\n",
       "\n",
       "    .dataframe thead th {\n",
       "        text-align: right;\n",
       "    }\n",
       "</style>\n",
       "<table border=\"1\" class=\"dataframe\">\n",
       "  <thead>\n",
       "    <tr style=\"text-align: right;\">\n",
       "      <th></th>\n",
       "      <th>ID</th>\n",
       "      <th>Name</th>\n",
       "      <th>AnimalType</th>\n",
       "      <th>SexuponOutcome</th>\n",
       "      <th>AgeuponOutcome</th>\n",
       "      <th>Breed</th>\n",
       "      <th>Color</th>\n",
       "      <th>year</th>\n",
       "      <th>month</th>\n",
       "    </tr>\n",
       "  </thead>\n",
       "  <tbody>\n",
       "    <tr>\n",
       "      <th>0</th>\n",
       "      <td>1</td>\n",
       "      <td>Summer</td>\n",
       "      <td>Dog</td>\n",
       "      <td>Intact Female</td>\n",
       "      <td>10 months</td>\n",
       "      <td>Labrador Retriever Mix</td>\n",
       "      <td>Red/White</td>\n",
       "      <td>2015</td>\n",
       "      <td>10</td>\n",
       "    </tr>\n",
       "    <tr>\n",
       "      <th>1</th>\n",
       "      <td>2</td>\n",
       "      <td>Cheyenne</td>\n",
       "      <td>Dog</td>\n",
       "      <td>Spayed Female</td>\n",
       "      <td>2 years</td>\n",
       "      <td>German Shepherd/Siberian Husky</td>\n",
       "      <td>Black/Tan</td>\n",
       "      <td>2014</td>\n",
       "      <td>07</td>\n",
       "    </tr>\n",
       "    <tr>\n",
       "      <th>2</th>\n",
       "      <td>3</td>\n",
       "      <td>Gus</td>\n",
       "      <td>Cat</td>\n",
       "      <td>Neutered Male</td>\n",
       "      <td>1 year</td>\n",
       "      <td>Domestic Shorthair Mix</td>\n",
       "      <td>Brown Tabby</td>\n",
       "      <td>2016</td>\n",
       "      <td>01</td>\n",
       "    </tr>\n",
       "    <tr>\n",
       "      <th>3</th>\n",
       "      <td>4</td>\n",
       "      <td>Pongo</td>\n",
       "      <td>Dog</td>\n",
       "      <td>Intact Male</td>\n",
       "      <td>4 months</td>\n",
       "      <td>Collie Smooth Mix</td>\n",
       "      <td>Tricolor</td>\n",
       "      <td>2013</td>\n",
       "      <td>12</td>\n",
       "    </tr>\n",
       "    <tr>\n",
       "      <th>4</th>\n",
       "      <td>5</td>\n",
       "      <td>Skooter</td>\n",
       "      <td>Dog</td>\n",
       "      <td>Neutered Male</td>\n",
       "      <td>2 years</td>\n",
       "      <td>Miniature Poodle Mix</td>\n",
       "      <td>White</td>\n",
       "      <td>2015</td>\n",
       "      <td>09</td>\n",
       "    </tr>\n",
       "  </tbody>\n",
       "</table>\n",
       "</div>"
      ],
      "text/plain": [
       "   ID      Name AnimalType SexuponOutcome AgeuponOutcome  \\\n",
       "0   1    Summer        Dog  Intact Female      10 months   \n",
       "1   2  Cheyenne        Dog  Spayed Female        2 years   \n",
       "2   3       Gus        Cat  Neutered Male         1 year   \n",
       "3   4     Pongo        Dog    Intact Male       4 months   \n",
       "4   5   Skooter        Dog  Neutered Male        2 years   \n",
       "\n",
       "                            Breed        Color  year month  \n",
       "0          Labrador Retriever Mix    Red/White  2015    10  \n",
       "1  German Shepherd/Siberian Husky    Black/Tan  2014    07  \n",
       "2          Domestic Shorthair Mix  Brown Tabby  2016    01  \n",
       "3               Collie Smooth Mix     Tricolor  2013    12  \n",
       "4            Miniature Poodle Mix        White  2015    09  "
      ]
     },
     "execution_count": 20,
     "metadata": {},
     "output_type": "execute_result"
    }
   ],
   "source": [
    "test_data.head()"
   ]
  },
  {
   "cell_type": "markdown",
   "metadata": {},
   "source": [
    "Visualizing data improves its understanding. To spare redundant coding, the function below helps for displaying occurrence of categorical variables. It is used for showing shelter outcomes per year and per month in both datasets."
   ]
  },
  {
   "cell_type": "code",
   "execution_count": 21,
   "metadata": {},
   "outputs": [],
   "source": [
    "def plot_bar(dataset, column, title = None, color = None):\n",
    "    \"\"\"\n",
    "    Function: Plots categorical data\n",
    "    \n",
    "    Arguments: dataset, feature; title and color are optional\n",
    "    \n",
    "    Returns: Barplot of categorical variable\n",
    "    \"\"\"\n",
    "    index = dataset.groupby(column).size().index\n",
    "    feature = dataset.groupby(column).size()\n",
    "    \n",
    "    plt.bar(index, feature, color = color)\n",
    "    plt.ylabel(\"Count\")\n",
    "    if title is not None:\n",
    "        plt.title(title)\n",
    "    plt.show()"
   ]
  },
  {
   "cell_type": "markdown",
   "metadata": {},
   "source": [
    "Both datasets hold similar data in terms of the year and month the events occurred. As expected, there are less samples in 2013 and 2016 but almost equal number of records in 2014 and 2015."
   ]
  },
  {
   "cell_type": "code",
   "execution_count": 22,
   "metadata": {},
   "outputs": [
    {
     "data": {
      "image/png": "[encoded data removed]",
      "text/plain": [
       "<Figure size 432x288 with 1 Axes>"
      ]
     },
     "metadata": {
      "needs_background": "light"
     },
     "output_type": "display_data"
    }
   ],
   "source": [
    "plot_bar(train_data, \"year\", \"Shelter outcomes per year [training data]\", \"seagreen\")"
   ]
  },
  {
   "cell_type": "code",
   "execution_count": 23,
   "metadata": {},
   "outputs": [
    {
     "data": {
      "image/png": "[encoded data removed]",
      "text/plain": [
       "<Figure size 432x288 with 1 Axes>"
      ]
     },
     "metadata": {
      "needs_background": "light"
     },
     "output_type": "display_data"
    }
   ],
   "source": [
    "plot_bar(test_data, \"year\", \"Shelter outcomes per year [testing data]\", \"gold\")"
   ]
  },
  {
   "cell_type": "markdown",
   "metadata": {},
   "source": [
    "Similarly, most cases were handled in October, November, and December, and least - in March."
   ]
  },
  {
   "cell_type": "code",
   "execution_count": 24,
   "metadata": {},
   "outputs": [
    {
     "data": {
      "image/png": "[encoded data removed]",
      "text/plain": [
       "<Figure size 432x288 with 1 Axes>"
      ]
     },
     "metadata": {
      "needs_background": "light"
     },
     "output_type": "display_data"
    }
   ],
   "source": [
    "plot_bar(train_data, \"month\", \"Shelter outcomes per month [training data]\", \"seagreen\")"
   ]
  },
  {
   "cell_type": "code",
   "execution_count": 25,
   "metadata": {},
   "outputs": [
    {
     "data": {
      "image/png": "[encoded data removed]",
      "text/plain": [
       "<Figure size 432x288 with 1 Axes>"
      ]
     },
     "metadata": {
      "needs_background": "light"
     },
     "output_type": "display_data"
    }
   ],
   "source": [
    "plot_bar(test_data, \"month\", \"Shelter outcomes per month [testing data]\", \"gold\")"
   ]
  },
  {
   "cell_type": "markdown",
   "metadata": {},
   "source": [
    "#### II.3.b. `Name` column"
   ]
  },
  {
   "cell_type": "markdown",
   "metadata": {},
   "source": [
    "A pet's name could hardly predict its fate. Furthermore, there are 6375 unique names in the training data, and 3713 - in the testing one; furthermore, both sets have missing values. For this reason, this column was removed."
   ]
  },
  {
   "cell_type": "code",
   "execution_count": 26,
   "metadata": {},
   "outputs": [
    {
     "data": {
      "text/plain": [
       "(6375, 3713)"
      ]
     },
     "execution_count": 26,
     "metadata": {},
     "output_type": "execute_result"
    }
   ],
   "source": [
    "len(train_data[\"Name\"].unique()), len(test_data[\"Name\"].unique())"
   ]
  },
  {
   "cell_type": "code",
   "execution_count": 27,
   "metadata": {},
   "outputs": [
    {
     "data": {
      "text/plain": [
       "(True, True)"
      ]
     },
     "execution_count": 27,
     "metadata": {},
     "output_type": "execute_result"
    }
   ],
   "source": [
    "train_data[\"Name\"].isna().any(), test_data[\"Name\"].isna().any()"
   ]
  },
  {
   "cell_type": "code",
   "execution_count": 28,
   "metadata": {},
   "outputs": [],
   "source": [
    "train_data.drop(\"Name\", axis = 1, inplace = True)\n",
    "test_data.drop(\"Name\", axis = 1, inplace = True)"
   ]
  },
  {
   "cell_type": "markdown",
   "metadata": {},
   "source": [
    "#### II.3.c. `AnimalType` column"
   ]
  },
  {
   "cell_type": "markdown",
   "metadata": {},
   "source": [
    "Both sets hold data only for cats and dogs. A brief check shows that there aren't missing values. Dogs and Cats in training and testing data are counted and displayed below. Both datasets have similar distribution of felines and canines."
   ]
  },
  {
   "cell_type": "code",
   "execution_count": 29,
   "metadata": {},
   "outputs": [
    {
     "data": {
      "text/plain": [
       "(array(['Dog', 'Cat'], dtype=object), array(['Dog', 'Cat'], dtype=object))"
      ]
     },
     "execution_count": 29,
     "metadata": {},
     "output_type": "execute_result"
    }
   ],
   "source": [
    "train_data[\"AnimalType\"].unique(), test_data[\"AnimalType\"].unique()"
   ]
  },
  {
   "cell_type": "code",
   "execution_count": 30,
   "metadata": {},
   "outputs": [
    {
     "data": {
      "text/plain": [
       "(False, False)"
      ]
     },
     "execution_count": 30,
     "metadata": {},
     "output_type": "execute_result"
    }
   ],
   "source": [
    "train_data[\"AnimalType\"].isna().any(), test_data[\"AnimalType\"].isna().any()"
   ]
  },
  {
   "cell_type": "code",
   "execution_count": 31,
   "metadata": {},
   "outputs": [
    {
     "data": {
      "image/png": "[encoded data removed]",
      "text/plain": [
       "<Figure size 432x288 with 1 Axes>"
      ]
     },
     "metadata": {
      "needs_background": "light"
     },
     "output_type": "display_data"
    }
   ],
   "source": [
    "plot_bar(train_data, \"AnimalType\", \"Cats and Dogs in training data\", \"seagreen\")"
   ]
  },
  {
   "cell_type": "code",
   "execution_count": 32,
   "metadata": {},
   "outputs": [
    {
     "data": {
      "image/png": "[encoded data removed]",
      "text/plain": [
       "<Figure size 432x288 with 1 Axes>"
      ]
     },
     "metadata": {
      "needs_background": "light"
     },
     "output_type": "display_data"
    }
   ],
   "source": [
    "plot_bar(test_data, \"AnimalType\", \"Cats and Dogs in testing data\", \"gold\")"
   ]
  },
  {
   "cell_type": "markdown",
   "metadata": {},
   "source": [
    "#### II.3.d. `SexuponOutcome` column"
   ]
  },
  {
   "cell_type": "markdown",
   "metadata": {},
   "source": [
    "\"SexuponOutcome\" holds data as to if the animal was spayed/neutered or not. Information for some pets is unknown or lacking."
   ]
  },
  {
   "cell_type": "code",
   "execution_count": 33,
   "metadata": {},
   "outputs": [
    {
     "data": {
      "text/plain": [
       "(array(['Neutered Male', 'Spayed Female', 'Intact Male', 'Intact Female',\n",
       "        'Unknown', nan], dtype=object),\n",
       " array(['Intact Female', 'Spayed Female', 'Neutered Male', 'Intact Male',\n",
       "        'Unknown'], dtype=object))"
      ]
     },
     "execution_count": 33,
     "metadata": {},
     "output_type": "execute_result"
    }
   ],
   "source": [
    "train_data[\"SexuponOutcome\"].unique(), test_data[\"SexuponOutcome\"].unique()"
   ]
  },
  {
   "cell_type": "markdown",
   "metadata": {},
   "source": [
    "In fact, there is not data for only one dog. Therefore, the `NaN` value was replaced with \"unknown\", since machine learning algorithms cannot make computations with missing values."
   ]
  },
  {
   "cell_type": "code",
   "execution_count": 34,
   "metadata": {},
   "outputs": [
    {
     "data": {
      "text/html": [
       "<div>\n",
       "<style scoped>\n",
       "    .dataframe tbody tr th:only-of-type {\n",
       "        vertical-align: middle;\n",
       "    }\n",
       "\n",
       "    .dataframe tbody tr th {\n",
       "        vertical-align: top;\n",
       "    }\n",
       "\n",
       "    .dataframe thead th {\n",
       "        text-align: right;\n",
       "    }\n",
       "</style>\n",
       "<table border=\"1\" class=\"dataframe\">\n",
       "  <thead>\n",
       "    <tr style=\"text-align: right;\">\n",
       "      <th></th>\n",
       "      <th>ID</th>\n",
       "      <th>OutcomeType</th>\n",
       "      <th>AnimalType</th>\n",
       "      <th>SexuponOutcome</th>\n",
       "      <th>AgeuponOutcome</th>\n",
       "      <th>Breed</th>\n",
       "      <th>Color</th>\n",
       "      <th>year</th>\n",
       "      <th>month</th>\n",
       "    </tr>\n",
       "  </thead>\n",
       "  <tbody>\n",
       "    <tr>\n",
       "      <th>3174</th>\n",
       "      <td>3175</td>\n",
       "      <td>Return_to_owner</td>\n",
       "      <td>Dog</td>\n",
       "      <td>NaN</td>\n",
       "      <td>7 years</td>\n",
       "      <td>Dachshund</td>\n",
       "      <td>Brown Merle</td>\n",
       "      <td>2013</td>\n",
       "      <td>11</td>\n",
       "    </tr>\n",
       "  </tbody>\n",
       "</table>\n",
       "</div>"
      ],
      "text/plain": [
       "        ID      OutcomeType AnimalType SexuponOutcome AgeuponOutcome  \\\n",
       "3174  3175  Return_to_owner        Dog            NaN        7 years   \n",
       "\n",
       "          Breed        Color  year month  \n",
       "3174  Dachshund  Brown Merle  2013    11  "
      ]
     },
     "execution_count": 34,
     "metadata": {},
     "output_type": "execute_result"
    }
   ],
   "source": [
    "train_data[train_data[\"SexuponOutcome\"].isna()]"
   ]
  },
  {
   "cell_type": "code",
   "execution_count": 35,
   "metadata": {},
   "outputs": [],
   "source": [
    "train_data[\"SexuponOutcome\"] = train_data[\"SexuponOutcome\"].replace(np.nan, \"Unknown\")"
   ]
  },
  {
   "cell_type": "markdown",
   "metadata": {},
   "source": [
    "The plots below show that most animals (both in the training and testing data) were neutered/spayed when left the shelter."
   ]
  },
  {
   "cell_type": "code",
   "execution_count": 36,
   "metadata": {},
   "outputs": [
    {
     "data": {
      "image/png": "[encoded data removed]",
      "text/plain": [
       "<Figure size 504x288 with 1 Axes>"
      ]
     },
     "metadata": {
      "needs_background": "light"
     },
     "output_type": "display_data"
    }
   ],
   "source": [
    "plt.figure(figsize = (7, 4))\n",
    "plot_bar(train_data, \"SexuponOutcome\", \"Sex upon Outcome in training data\", \"seagreen\")"
   ]
  },
  {
   "cell_type": "code",
   "execution_count": 37,
   "metadata": {},
   "outputs": [
    {
     "data": {
      "image/png": "[encoded data removed]",
      "text/plain": [
       "<Figure size 504x288 with 1 Axes>"
      ]
     },
     "metadata": {
      "needs_background": "light"
     },
     "output_type": "display_data"
    }
   ],
   "source": [
    "plt.figure(figsize = (7, 4))\n",
    "plot_bar(test_data, \"SexuponOutcome\", \"Sex upon Outcome in testing data\", \"gold\")"
   ]
  },
  {
   "cell_type": "markdown",
   "metadata": {},
   "source": [
    "Gender information could be further disaggregated by placing pets into female, male, neutered/spayed, or unknown group. This is performed with the code lines below."
   ]
  },
  {
   "cell_type": "code",
   "execution_count": 38,
   "metadata": {},
   "outputs": [],
   "source": [
    "def gender_procedure(gender, field):\n",
    "    \"\"\"\n",
    "    Function: Splits animals gender and state / underwent procedure\n",
    "    \n",
    "    Arguments: gender and field\n",
    "    \n",
    "    Returns: Dataset with additional columns for gender and underwent procedure\n",
    "    \"\"\"\n",
    "    if gender == \"Unknown\":\n",
    "        return \"Unknown\"\n",
    "    \n",
    "    else:\n",
    "        split_gender = gender.split(\" \")\n",
    "        if field == \"gender\":\n",
    "            return split_gender[1]\n",
    "        elif field == \"state\":\n",
    "            return split_gender[0]"
   ]
  },
  {
   "cell_type": "markdown",
   "metadata": {},
   "source": [
    "The function is applied to both datasets twice - once for getting gender, and second time - for storing information as to if the pet was spayed/neurtured, or not."
   ]
  },
  {
   "cell_type": "code",
   "execution_count": 39,
   "metadata": {},
   "outputs": [],
   "source": [
    "train_data[\"gender\"] = train_data[\"SexuponOutcome\"].apply(gender_procedure, args = (\"gender\",))\n",
    "train_data[\"state\"] = train_data[\"SexuponOutcome\"].apply(gender_procedure, args = (\"state\",)) "
   ]
  },
  {
   "cell_type": "code",
   "execution_count": 40,
   "metadata": {},
   "outputs": [],
   "source": [
    "test_data[\"gender\"] = test_data[\"SexuponOutcome\"].apply(gender_procedure, args = (\"gender\",))\n",
    "test_data[\"state\"] = test_data[\"SexuponOutcome\"].apply(gender_procedure, args = (\"state\",))"
   ]
  },
  {
   "cell_type": "markdown",
   "metadata": {},
   "source": [
    "Thereafter, \"SexuponOutcome\" was removed; instead, \"gender\" and \"state\" are used for modeling."
   ]
  },
  {
   "cell_type": "code",
   "execution_count": 41,
   "metadata": {},
   "outputs": [],
   "source": [
    "train_data.drop(\"SexuponOutcome\", axis = 1, inplace = True)\n",
    "test_data.drop(\"SexuponOutcome\", axis = 1, inplace = True)"
   ]
  },
  {
   "cell_type": "markdown",
   "metadata": {},
   "source": [
    "#### II.3.e. `AgeuponOutcome` column"
   ]
  },
  {
   "cell_type": "markdown",
   "metadata": {},
   "source": [
    "\"AgeuponOutcome\" provides information about the pet's age when it left the shelter, or when its case was closed. Unfortunately, age values were entered as strings and are in *days, weeks, months*, or *years*. There are missing values in both datasets, as well. The latter could be filled with the most frequent age but first, values should be converted."
   ]
  },
  {
   "cell_type": "code",
   "execution_count": 42,
   "metadata": {},
   "outputs": [
    {
     "data": {
      "text/plain": [
       "array(['1 year', '2 years', '3 weeks', '1 month', '5 months', '4 years',\n",
       "       '3 months', '2 weeks', '2 months', '10 months', '6 months',\n",
       "       '5 years', '7 years', '3 years', '4 months', '12 years', '9 years',\n",
       "       '6 years', '1 weeks', '11 years', '4 weeks', '7 months', '8 years',\n",
       "       '11 months', '4 days', '9 months', '8 months', '15 years',\n",
       "       '10 years', '1 week', '0 years', '14 years', '3 days', '6 days',\n",
       "       '5 days', '5 weeks', '2 days', '16 years', '1 day', '13 years',\n",
       "       nan, '17 years', '18 years', '19 years', '20 years'], dtype=object)"
      ]
     },
     "execution_count": 42,
     "metadata": {},
     "output_type": "execute_result"
    }
   ],
   "source": [
    "train_data[\"AgeuponOutcome\"].unique()"
   ]
  },
  {
   "cell_type": "code",
   "execution_count": 43,
   "metadata": {},
   "outputs": [
    {
     "data": {
      "text/plain": [
       "array(['10 months', '2 years', '1 year', '4 months', '3 years',\n",
       "       '13 years', '6 months', '3 months', '5 months', '5 years',\n",
       "       '4 years', '3 weeks', '1 week', '2 months', '9 months', '4 days',\n",
       "       '2 weeks', '7 months', '9 years', '1 month', '12 years', '1 weeks',\n",
       "       '6 days', '6 years', '8 years', '8 months', '4 weeks', '7 years',\n",
       "       '10 years', '5 days', '17 years', '3 days', '15 years', '11 years',\n",
       "       '14 years', '11 months', nan, '2 days', '1 day', '16 years',\n",
       "       '20 years', '0 years', '22 years', '18 years', '5 weeks',\n",
       "       '19 years'], dtype=object)"
      ]
     },
     "execution_count": 43,
     "metadata": {},
     "output_type": "execute_result"
    }
   ],
   "source": [
    "test_data[\"AgeuponOutcome\"].unique() "
   ]
  },
  {
   "cell_type": "markdown",
   "metadata": {},
   "source": [
    "It seems the easiest way to make pets' age comparable is to convert all values into weeks. Thus, a year old puppy would be 52 weeks old, and a month old cat - 4 weeks of age. Newborn animals (i.e., a-few-days old) get 0.9 weeks as their age, which is less than 1 week. `NaN` values are handled later.\n",
    "\n",
    "The code lines below get all ages in a list and check if the entry contains the respective word. If so, the value is multiplied by 1 (for week), 4 (for months), and 52 (for years), or is directly assigned 0.9."
   ]
  },
  {
   "cell_type": "code",
   "execution_count": 44,
   "metadata": {},
   "outputs": [],
   "source": [
    "def convert_age(dataset, age_col):\n",
    "    \"\"\"\n",
    "    Function: Converts different age format into weeks\n",
    "    \n",
    "    Arguments: dataset and column with age data\n",
    "    \n",
    "    Returns: Dataset with new column for age in weeks\n",
    "    \"\"\"\n",
    "    output_age_weeks = []\n",
    "    age_column = dataset[age_col].tolist()\n",
    "    \n",
    "    for record in age_column:\n",
    "        if type(record) == float:\n",
    "            formated_age = None\n",
    "        else:\n",
    "            if \"month\" in record:\n",
    "                formated_age = round(float(record[0]) * 4)\n",
    "            elif \"week\" in record:\n",
    "                formated_age = round(float(record[0]) * 1)\n",
    "            elif \"day\" in record:\n",
    "                formated_age = 0.9\n",
    "            elif \"year\" in record:\n",
    "                formated_age = round(float(record[0]) * 52)\n",
    "        output_age_weeks.append(formated_age)\n",
    "    \n",
    "    dataset.drop(age_col, axis = 1, inplace = True)\n",
    "    dataset[\"age_weeks\"] = output_age_weeks\n",
    "    \n",
    "    return dataset"
   ]
  },
  {
   "cell_type": "code",
   "execution_count": 45,
   "metadata": {},
   "outputs": [],
   "source": [
    "train_data = convert_age(train_data, \"AgeuponOutcome\")"
   ]
  },
  {
   "cell_type": "code",
   "execution_count": 46,
   "metadata": {},
   "outputs": [],
   "source": [
    "test_data = convert_age(test_data, \"AgeuponOutcome\")"
   ]
  },
  {
   "cell_type": "code",
   "execution_count": 47,
   "metadata": {},
   "outputs": [
    {
     "data": {
      "text/html": [
       "<div>\n",
       "<style scoped>\n",
       "    .dataframe tbody tr th:only-of-type {\n",
       "        vertical-align: middle;\n",
       "    }\n",
       "\n",
       "    .dataframe tbody tr th {\n",
       "        vertical-align: top;\n",
       "    }\n",
       "\n",
       "    .dataframe thead th {\n",
       "        text-align: right;\n",
       "    }\n",
       "</style>\n",
       "<table border=\"1\" class=\"dataframe\">\n",
       "  <thead>\n",
       "    <tr style=\"text-align: right;\">\n",
       "      <th></th>\n",
       "      <th>ID</th>\n",
       "      <th>OutcomeType</th>\n",
       "      <th>AnimalType</th>\n",
       "      <th>Breed</th>\n",
       "      <th>Color</th>\n",
       "      <th>year</th>\n",
       "      <th>month</th>\n",
       "      <th>gender</th>\n",
       "      <th>state</th>\n",
       "      <th>age_weeks</th>\n",
       "    </tr>\n",
       "  </thead>\n",
       "  <tbody>\n",
       "    <tr>\n",
       "      <th>0</th>\n",
       "      <td>1</td>\n",
       "      <td>Return_to_owner</td>\n",
       "      <td>Dog</td>\n",
       "      <td>Shetland Sheepdog Mix</td>\n",
       "      <td>Brown/White</td>\n",
       "      <td>2014</td>\n",
       "      <td>02</td>\n",
       "      <td>Male</td>\n",
       "      <td>Neutered</td>\n",
       "      <td>52.0</td>\n",
       "    </tr>\n",
       "    <tr>\n",
       "      <th>1</th>\n",
       "      <td>2</td>\n",
       "      <td>Euthanasia</td>\n",
       "      <td>Cat</td>\n",
       "      <td>Domestic Shorthair Mix</td>\n",
       "      <td>Cream Tabby</td>\n",
       "      <td>2013</td>\n",
       "      <td>10</td>\n",
       "      <td>Female</td>\n",
       "      <td>Spayed</td>\n",
       "      <td>52.0</td>\n",
       "    </tr>\n",
       "    <tr>\n",
       "      <th>2</th>\n",
       "      <td>3</td>\n",
       "      <td>Adoption</td>\n",
       "      <td>Dog</td>\n",
       "      <td>Pit Bull Mix</td>\n",
       "      <td>Blue/White</td>\n",
       "      <td>2015</td>\n",
       "      <td>01</td>\n",
       "      <td>Male</td>\n",
       "      <td>Neutered</td>\n",
       "      <td>104.0</td>\n",
       "    </tr>\n",
       "    <tr>\n",
       "      <th>3</th>\n",
       "      <td>4</td>\n",
       "      <td>Transfer</td>\n",
       "      <td>Cat</td>\n",
       "      <td>Domestic Shorthair Mix</td>\n",
       "      <td>Blue Cream</td>\n",
       "      <td>2014</td>\n",
       "      <td>07</td>\n",
       "      <td>Male</td>\n",
       "      <td>Intact</td>\n",
       "      <td>3.0</td>\n",
       "    </tr>\n",
       "    <tr>\n",
       "      <th>4</th>\n",
       "      <td>5</td>\n",
       "      <td>Transfer</td>\n",
       "      <td>Dog</td>\n",
       "      <td>Lhasa Apso/Miniature Poodle</td>\n",
       "      <td>Tan</td>\n",
       "      <td>2013</td>\n",
       "      <td>11</td>\n",
       "      <td>Male</td>\n",
       "      <td>Neutered</td>\n",
       "      <td>104.0</td>\n",
       "    </tr>\n",
       "  </tbody>\n",
       "</table>\n",
       "</div>"
      ],
      "text/plain": [
       "   ID      OutcomeType AnimalType                        Breed        Color  \\\n",
       "0   1  Return_to_owner        Dog        Shetland Sheepdog Mix  Brown/White   \n",
       "1   2       Euthanasia        Cat       Domestic Shorthair Mix  Cream Tabby   \n",
       "2   3         Adoption        Dog                 Pit Bull Mix   Blue/White   \n",
       "3   4         Transfer        Cat       Domestic Shorthair Mix   Blue Cream   \n",
       "4   5         Transfer        Dog  Lhasa Apso/Miniature Poodle          Tan   \n",
       "\n",
       "   year month  gender     state  age_weeks  \n",
       "0  2014    02    Male  Neutered       52.0  \n",
       "1  2013    10  Female    Spayed       52.0  \n",
       "2  2015    01    Male  Neutered      104.0  \n",
       "3  2014    07    Male    Intact        3.0  \n",
       "4  2013    11    Male  Neutered      104.0  "
      ]
     },
     "execution_count": 47,
     "metadata": {},
     "output_type": "execute_result"
    }
   ],
   "source": [
    "train_data.head()"
   ]
  },
  {
   "cell_type": "code",
   "execution_count": 48,
   "metadata": {},
   "outputs": [
    {
     "data": {
      "text/plain": [
       "(True, True)"
      ]
     },
     "execution_count": 48,
     "metadata": {},
     "output_type": "execute_result"
    }
   ],
   "source": [
    "train_data[\"age_weeks\"].isna().any(), test_data[\"age_weeks\"].isna().any()"
   ]
  },
  {
   "cell_type": "markdown",
   "metadata": {},
   "source": [
    "To recall, there are missing values in the age column. All values are on the same scale now (so to speak), and `NaNs` could be imputed with the most frequent one. Mode is computed in the function below, which is used for imputing empty cells."
   ]
  },
  {
   "cell_type": "code",
   "execution_count": 49,
   "metadata": {},
   "outputs": [],
   "source": [
    "def impute_missing_values(dataset, age_col):\n",
    "    \"\"\"\n",
    "    Function: Imputes missing values in age column with mode\n",
    "    \n",
    "    Arguments: dataset and column with age data\n",
    "    \n",
    "    Returns: Dataset without missing values in age column\n",
    "    \"\"\"\n",
    "    mode_age = dataset[age_col].mode()[0]\n",
    "    dataset[age_col] = dataset[age_col].fillna(mode_age)\n",
    "    \n",
    "    return dataset"
   ]
  },
  {
   "cell_type": "code",
   "execution_count": 50,
   "metadata": {},
   "outputs": [],
   "source": [
    "train_data = impute_missing_values(train_data, \"age_weeks\")"
   ]
  },
  {
   "cell_type": "code",
   "execution_count": 51,
   "metadata": {},
   "outputs": [],
   "source": [
    "test_data = impute_missing_values(test_data, \"age_weeks\")"
   ]
  },
  {
   "cell_type": "markdown",
   "metadata": {},
   "source": [
    "A brief check confirms that there are not missing values anymore."
   ]
  },
  {
   "cell_type": "code",
   "execution_count": 52,
   "metadata": {},
   "outputs": [
    {
     "data": {
      "text/plain": [
       "(False, False)"
      ]
     },
     "execution_count": 52,
     "metadata": {},
     "output_type": "execute_result"
    }
   ],
   "source": [
    "train_data[\"age_weeks\"].isna().any(), test_data[\"age_weeks\"].isna().any()"
   ]
  },
  {
   "cell_type": "markdown",
   "metadata": {},
   "source": [
    "It is interesting to see how old pets were when left the shelter (or when their case was closed). The function below helps for displaying age distribution."
   ]
  },
  {
   "cell_type": "code",
   "execution_count": 53,
   "metadata": {},
   "outputs": [],
   "source": [
    "def plot_hist(dataset, column, title = None, color = None):\n",
    "    \"\"\"\n",
    "    Function: Plots distribution of continuous values\n",
    "    \n",
    "    Arguments: dataset and column; title and color are optional\n",
    "    \n",
    "    Returns: Histogram of continuous values\n",
    "    \"\"\"\n",
    "    plt.hist(dataset[column], color = color)\n",
    "    if title is not None:\n",
    "        plt.title(title)\n",
    "    plt.ylabel(\"Count\")\n",
    "    plt.show()"
   ]
  },
  {
   "cell_type": "markdown",
   "metadata": {},
   "source": [
    "Most animals were up to 200 weeks old (circa 4 years of age) when left the shelter or their case was closed."
   ]
  },
  {
   "cell_type": "code",
   "execution_count": 54,
   "metadata": {},
   "outputs": [
    {
     "data": {
      "image/png": "[encoded data removed]",
      "text/plain": [
       "<Figure size 432x288 with 1 Axes>"
      ]
     },
     "metadata": {
      "needs_background": "light"
     },
     "output_type": "display_data"
    }
   ],
   "source": [
    "plot_hist(train_data, \"age_weeks\", \"Pets age at outcome [training data]\", \"seagreen\")"
   ]
  },
  {
   "cell_type": "code",
   "execution_count": 55,
   "metadata": {},
   "outputs": [
    {
     "data": {
      "image/png": "[encoded data removed]",
      "text/plain": [
       "<Figure size 432x288 with 1 Axes>"
      ]
     },
     "metadata": {
      "needs_background": "light"
     },
     "output_type": "display_data"
    }
   ],
   "source": [
    "plot_hist(test_data, \"age_weeks\", \"Pets age at outcome [testing data]\", \"gold\")"
   ]
  },
  {
   "cell_type": "markdown",
   "metadata": {},
   "source": [
    "#### II.3.f. `Breed` column"
   ]
  },
  {
   "cell_type": "markdown",
   "metadata": {},
   "source": [
    "There are 1380 unique breed types in the training data, and 913 - in the testing part. It is possible to group them around words like \"mix\" but important information might be lost. For this reason, breeds will not be \"cleaned\" or re-grouped further. Fortunately, there are not missing values in this feature."
   ]
  },
  {
   "cell_type": "code",
   "execution_count": 56,
   "metadata": {},
   "outputs": [
    {
     "data": {
      "text/plain": [
       "(1380, 913)"
      ]
     },
     "execution_count": 56,
     "metadata": {},
     "output_type": "execute_result"
    }
   ],
   "source": [
    "len(train_data[\"Breed\"].unique()), len(test_data[\"Breed\"].unique())"
   ]
  },
  {
   "cell_type": "code",
   "execution_count": 57,
   "metadata": {},
   "outputs": [
    {
     "data": {
      "text/plain": [
       "(False, False)"
      ]
     },
     "execution_count": 57,
     "metadata": {},
     "output_type": "execute_result"
    }
   ],
   "source": [
    "train_data[\"Breed\"].isna().any(), test_data[\"Breed\"].isna().any()"
   ]
  },
  {
   "cell_type": "markdown",
   "metadata": {},
   "source": [
    "#### II.3.g. `Color` column"
   ]
  },
  {
   "cell_type": "markdown",
   "metadata": {},
   "source": [
    "Similarly, pets come with various colors and stripes. As a result, there are 366 unique values in the training data, and 277 - in the testing one. Grouping animals around color, if possible at all, could lead to loss of information. Pets' appearace most likely (and unfortunately) play a role in adoption; hence, this feature must not be removed. Luckily, there are not missing values here, too."
   ]
  },
  {
   "cell_type": "code",
   "execution_count": 58,
   "metadata": {},
   "outputs": [
    {
     "data": {
      "text/plain": [
       "(366, 277)"
      ]
     },
     "execution_count": 58,
     "metadata": {},
     "output_type": "execute_result"
    }
   ],
   "source": [
    "len(train_data[\"Color\"].unique()), len(test_data[\"Color\"].unique())"
   ]
  },
  {
   "cell_type": "code",
   "execution_count": 59,
   "metadata": {},
   "outputs": [
    {
     "data": {
      "text/plain": [
       "(False, False)"
      ]
     },
     "execution_count": 59,
     "metadata": {},
     "output_type": "execute_result"
    }
   ],
   "source": [
    "train_data[\"Color\"].isna().any(), test_data[\"Color\"].isna().any()"
   ]
  },
  {
   "cell_type": "markdown",
   "metadata": {},
   "source": [
    "#### II.3.h. `Outcome` column"
   ]
  },
  {
   "cell_type": "markdown",
   "metadata": {},
   "source": [
    "The \"Outcome\" for an animal leaving the shelter, could be: `Return to owner`, `Euthanasia`, `Adoption`, `Transfer`, and `Died`. Their frequency is ploted below. "
   ]
  },
  {
   "cell_type": "code",
   "execution_count": 60,
   "metadata": {},
   "outputs": [
    {
     "data": {
      "text/plain": [
       "array(['Return_to_owner', 'Euthanasia', 'Adoption', 'Transfer', 'Died'],\n",
       "      dtype=object)"
      ]
     },
     "execution_count": 60,
     "metadata": {},
     "output_type": "execute_result"
    }
   ],
   "source": [
    "train_data[\"OutcomeType\"].unique()"
   ]
  },
  {
   "cell_type": "markdown",
   "metadata": {},
   "source": [
    "Most pets were either adopted or transfered or returned to owners. Slightly less than 2000 animals were euthanised and a minor share simply died."
   ]
  },
  {
   "cell_type": "code",
   "execution_count": 61,
   "metadata": {},
   "outputs": [
    {
     "data": {
      "image/png": "[encoded data removed]",
      "text/plain": [
       "<Figure size 504x360 with 1 Axes>"
      ]
     },
     "metadata": {
      "needs_background": "light"
     },
     "output_type": "display_data"
    }
   ],
   "source": [
    "plt.figure(figsize = (7, 5))\n",
    "plot_bar(train_data, \"OutcomeType\", \"Shelter outcomes [training data]\", \"seagreen\")"
   ]
  },
  {
   "cell_type": "markdown",
   "metadata": {},
   "source": [
    "## III. Data Pre-processing\n",
    "### III.1 Set `ID` for Index column"
   ]
  },
  {
   "cell_type": "markdown",
   "metadata": {},
   "source": [
    "\"ID\" column contains unique numbers; if left as feature, the algorithm will use it as a predictor for the outcome, which would be wrong. On the other hand, the sample submission template requires outcomes to be provided with an \"ID\" column. For this reason, it is set for an index."
   ]
  },
  {
   "cell_type": "code",
   "execution_count": 62,
   "metadata": {},
   "outputs": [],
   "source": [
    "train_data.set_index(\"ID\", inplace = True)"
   ]
  },
  {
   "cell_type": "code",
   "execution_count": 63,
   "metadata": {},
   "outputs": [],
   "source": [
    "test_data.set_index(\"ID\", inplace = True)"
   ]
  },
  {
   "cell_type": "markdown",
   "metadata": {},
   "source": [
    "### III.2 Shuffle Train data"
   ]
  },
  {
   "cell_type": "markdown",
   "metadata": {},
   "source": [
    "Train data will be split into training and validation. It is shuffled for avoiding over- or under sampling of certain classes (outcomes) during splitting. Thereafter, the first 5 rows of both datasets are displayed."
   ]
  },
  {
   "cell_type": "code",
   "execution_count": 64,
   "metadata": {},
   "outputs": [],
   "source": [
    "train_data_shuffled = train_data.sample(frac = 1).reset_index(drop = True)"
   ]
  },
  {
   "cell_type": "code",
   "execution_count": 65,
   "metadata": {},
   "outputs": [
    {
     "data": {
      "text/html": [
       "<div>\n",
       "<style scoped>\n",
       "    .dataframe tbody tr th:only-of-type {\n",
       "        vertical-align: middle;\n",
       "    }\n",
       "\n",
       "    .dataframe tbody tr th {\n",
       "        vertical-align: top;\n",
       "    }\n",
       "\n",
       "    .dataframe thead th {\n",
       "        text-align: right;\n",
       "    }\n",
       "</style>\n",
       "<table border=\"1\" class=\"dataframe\">\n",
       "  <thead>\n",
       "    <tr style=\"text-align: right;\">\n",
       "      <th></th>\n",
       "      <th>OutcomeType</th>\n",
       "      <th>AnimalType</th>\n",
       "      <th>Breed</th>\n",
       "      <th>Color</th>\n",
       "      <th>year</th>\n",
       "      <th>month</th>\n",
       "      <th>gender</th>\n",
       "      <th>state</th>\n",
       "      <th>age_weeks</th>\n",
       "    </tr>\n",
       "  </thead>\n",
       "  <tbody>\n",
       "    <tr>\n",
       "      <th>0</th>\n",
       "      <td>Adoption</td>\n",
       "      <td>Cat</td>\n",
       "      <td>Domestic Shorthair Mix</td>\n",
       "      <td>White/Brown Tabby</td>\n",
       "      <td>2015</td>\n",
       "      <td>09</td>\n",
       "      <td>Male</td>\n",
       "      <td>Neutered</td>\n",
       "      <td>8.0</td>\n",
       "    </tr>\n",
       "    <tr>\n",
       "      <th>1</th>\n",
       "      <td>Adoption</td>\n",
       "      <td>Dog</td>\n",
       "      <td>Chihuahua Shorthair Mix</td>\n",
       "      <td>Tricolor</td>\n",
       "      <td>2015</td>\n",
       "      <td>01</td>\n",
       "      <td>Male</td>\n",
       "      <td>Neutered</td>\n",
       "      <td>468.0</td>\n",
       "    </tr>\n",
       "    <tr>\n",
       "      <th>2</th>\n",
       "      <td>Adoption</td>\n",
       "      <td>Dog</td>\n",
       "      <td>Miniature Poodle/Maltese</td>\n",
       "      <td>Cream</td>\n",
       "      <td>2015</td>\n",
       "      <td>06</td>\n",
       "      <td>Female</td>\n",
       "      <td>Spayed</td>\n",
       "      <td>104.0</td>\n",
       "    </tr>\n",
       "    <tr>\n",
       "      <th>3</th>\n",
       "      <td>Transfer</td>\n",
       "      <td>Cat</td>\n",
       "      <td>Domestic Shorthair Mix</td>\n",
       "      <td>Tortie</td>\n",
       "      <td>2014</td>\n",
       "      <td>05</td>\n",
       "      <td>Female</td>\n",
       "      <td>Intact</td>\n",
       "      <td>3.0</td>\n",
       "    </tr>\n",
       "    <tr>\n",
       "      <th>4</th>\n",
       "      <td>Adoption</td>\n",
       "      <td>Cat</td>\n",
       "      <td>Domestic Shorthair Mix</td>\n",
       "      <td>Black/White</td>\n",
       "      <td>2014</td>\n",
       "      <td>07</td>\n",
       "      <td>Female</td>\n",
       "      <td>Spayed</td>\n",
       "      <td>4.0</td>\n",
       "    </tr>\n",
       "  </tbody>\n",
       "</table>\n",
       "</div>"
      ],
      "text/plain": [
       "  OutcomeType AnimalType                     Breed              Color  year  \\\n",
       "0    Adoption        Cat    Domestic Shorthair Mix  White/Brown Tabby  2015   \n",
       "1    Adoption        Dog   Chihuahua Shorthair Mix           Tricolor  2015   \n",
       "2    Adoption        Dog  Miniature Poodle/Maltese              Cream  2015   \n",
       "3    Transfer        Cat    Domestic Shorthair Mix             Tortie  2014   \n",
       "4    Adoption        Cat    Domestic Shorthair Mix        Black/White  2014   \n",
       "\n",
       "  month  gender     state  age_weeks  \n",
       "0    09    Male  Neutered        8.0  \n",
       "1    01    Male  Neutered      468.0  \n",
       "2    06  Female    Spayed      104.0  \n",
       "3    05  Female    Intact        3.0  \n",
       "4    07  Female    Spayed        4.0  "
      ]
     },
     "execution_count": 65,
     "metadata": {},
     "output_type": "execute_result"
    }
   ],
   "source": [
    "train_data_shuffled.head()"
   ]
  },
  {
   "cell_type": "code",
   "execution_count": 66,
   "metadata": {},
   "outputs": [
    {
     "data": {
      "text/html": [
       "<div>\n",
       "<style scoped>\n",
       "    .dataframe tbody tr th:only-of-type {\n",
       "        vertical-align: middle;\n",
       "    }\n",
       "\n",
       "    .dataframe tbody tr th {\n",
       "        vertical-align: top;\n",
       "    }\n",
       "\n",
       "    .dataframe thead th {\n",
       "        text-align: right;\n",
       "    }\n",
       "</style>\n",
       "<table border=\"1\" class=\"dataframe\">\n",
       "  <thead>\n",
       "    <tr style=\"text-align: right;\">\n",
       "      <th></th>\n",
       "      <th>AnimalType</th>\n",
       "      <th>Breed</th>\n",
       "      <th>Color</th>\n",
       "      <th>year</th>\n",
       "      <th>month</th>\n",
       "      <th>gender</th>\n",
       "      <th>state</th>\n",
       "      <th>age_weeks</th>\n",
       "    </tr>\n",
       "    <tr>\n",
       "      <th>ID</th>\n",
       "      <th></th>\n",
       "      <th></th>\n",
       "      <th></th>\n",
       "      <th></th>\n",
       "      <th></th>\n",
       "      <th></th>\n",
       "      <th></th>\n",
       "      <th></th>\n",
       "    </tr>\n",
       "  </thead>\n",
       "  <tbody>\n",
       "    <tr>\n",
       "      <th>1</th>\n",
       "      <td>Dog</td>\n",
       "      <td>Labrador Retriever Mix</td>\n",
       "      <td>Red/White</td>\n",
       "      <td>2015</td>\n",
       "      <td>10</td>\n",
       "      <td>Female</td>\n",
       "      <td>Intact</td>\n",
       "      <td>4.0</td>\n",
       "    </tr>\n",
       "    <tr>\n",
       "      <th>2</th>\n",
       "      <td>Dog</td>\n",
       "      <td>German Shepherd/Siberian Husky</td>\n",
       "      <td>Black/Tan</td>\n",
       "      <td>2014</td>\n",
       "      <td>07</td>\n",
       "      <td>Female</td>\n",
       "      <td>Spayed</td>\n",
       "      <td>104.0</td>\n",
       "    </tr>\n",
       "    <tr>\n",
       "      <th>3</th>\n",
       "      <td>Cat</td>\n",
       "      <td>Domestic Shorthair Mix</td>\n",
       "      <td>Brown Tabby</td>\n",
       "      <td>2016</td>\n",
       "      <td>01</td>\n",
       "      <td>Male</td>\n",
       "      <td>Neutered</td>\n",
       "      <td>52.0</td>\n",
       "    </tr>\n",
       "    <tr>\n",
       "      <th>4</th>\n",
       "      <td>Dog</td>\n",
       "      <td>Collie Smooth Mix</td>\n",
       "      <td>Tricolor</td>\n",
       "      <td>2013</td>\n",
       "      <td>12</td>\n",
       "      <td>Male</td>\n",
       "      <td>Intact</td>\n",
       "      <td>16.0</td>\n",
       "    </tr>\n",
       "    <tr>\n",
       "      <th>5</th>\n",
       "      <td>Dog</td>\n",
       "      <td>Miniature Poodle Mix</td>\n",
       "      <td>White</td>\n",
       "      <td>2015</td>\n",
       "      <td>09</td>\n",
       "      <td>Male</td>\n",
       "      <td>Neutered</td>\n",
       "      <td>104.0</td>\n",
       "    </tr>\n",
       "  </tbody>\n",
       "</table>\n",
       "</div>"
      ],
      "text/plain": [
       "   AnimalType                           Breed        Color  year month  \\\n",
       "ID                                                                       \n",
       "1         Dog          Labrador Retriever Mix    Red/White  2015    10   \n",
       "2         Dog  German Shepherd/Siberian Husky    Black/Tan  2014    07   \n",
       "3         Cat          Domestic Shorthair Mix  Brown Tabby  2016    01   \n",
       "4         Dog               Collie Smooth Mix     Tricolor  2013    12   \n",
       "5         Dog            Miniature Poodle Mix        White  2015    09   \n",
       "\n",
       "    gender     state  age_weeks  \n",
       "ID                               \n",
       "1   Female    Intact        4.0  \n",
       "2   Female    Spayed      104.0  \n",
       "3     Male  Neutered       52.0  \n",
       "4     Male    Intact       16.0  \n",
       "5     Male  Neutered      104.0  "
      ]
     },
     "execution_count": 66,
     "metadata": {},
     "output_type": "execute_result"
    }
   ],
   "source": [
    "test_data.head()"
   ]
  },
  {
   "cell_type": "markdown",
   "metadata": {},
   "source": [
    "Both sets have same features save the \"OutcomeType\" in the training data. The latter should be separated from other features before to proceed further."
   ]
  },
  {
   "cell_type": "markdown",
   "metadata": {},
   "source": [
    "### III.3. Separate labels from features"
   ]
  },
  {
   "cell_type": "markdown",
   "metadata": {},
   "source": [
    "Labels are separated from features with the function below."
   ]
  },
  {
   "cell_type": "code",
   "execution_count": 67,
   "metadata": {},
   "outputs": [],
   "source": [
    "def separate_dataset(dataset, label_col):\n",
    "    \"\"\"\n",
    "    Function: Separates labels from features\n",
    "    \n",
    "    Arguments: Dataset and column with labels\n",
    "    \n",
    "    Returns: Tuple with features and labels\n",
    "    \"\"\"\n",
    "    features = dataset.drop(label_col, axis = 1)\n",
    "    labels = dataset[label_col]\n",
    "    \n",
    "    return (features, labels)"
   ]
  },
  {
   "cell_type": "code",
   "execution_count": 68,
   "metadata": {},
   "outputs": [],
   "source": [
    "(train_features, train_labels) = separate_dataset(train_data_shuffled, \"OutcomeType\")"
   ]
  },
  {
   "cell_type": "markdown",
   "metadata": {},
   "source": [
    "A brief check shows that both sets have 8 identical features. \"ID\" column in training data changed but it is irrelevant for modeling and prediction."
   ]
  },
  {
   "cell_type": "code",
   "execution_count": 69,
   "metadata": {},
   "outputs": [
    {
     "data": {
      "text/html": [
       "<div>\n",
       "<style scoped>\n",
       "    .dataframe tbody tr th:only-of-type {\n",
       "        vertical-align: middle;\n",
       "    }\n",
       "\n",
       "    .dataframe tbody tr th {\n",
       "        vertical-align: top;\n",
       "    }\n",
       "\n",
       "    .dataframe thead th {\n",
       "        text-align: right;\n",
       "    }\n",
       "</style>\n",
       "<table border=\"1\" class=\"dataframe\">\n",
       "  <thead>\n",
       "    <tr style=\"text-align: right;\">\n",
       "      <th></th>\n",
       "      <th>AnimalType</th>\n",
       "      <th>Breed</th>\n",
       "      <th>Color</th>\n",
       "      <th>year</th>\n",
       "      <th>month</th>\n",
       "      <th>gender</th>\n",
       "      <th>state</th>\n",
       "      <th>age_weeks</th>\n",
       "    </tr>\n",
       "  </thead>\n",
       "  <tbody>\n",
       "    <tr>\n",
       "      <th>0</th>\n",
       "      <td>Cat</td>\n",
       "      <td>Domestic Shorthair Mix</td>\n",
       "      <td>White/Brown Tabby</td>\n",
       "      <td>2015</td>\n",
       "      <td>09</td>\n",
       "      <td>Male</td>\n",
       "      <td>Neutered</td>\n",
       "      <td>8.0</td>\n",
       "    </tr>\n",
       "    <tr>\n",
       "      <th>1</th>\n",
       "      <td>Dog</td>\n",
       "      <td>Chihuahua Shorthair Mix</td>\n",
       "      <td>Tricolor</td>\n",
       "      <td>2015</td>\n",
       "      <td>01</td>\n",
       "      <td>Male</td>\n",
       "      <td>Neutered</td>\n",
       "      <td>468.0</td>\n",
       "    </tr>\n",
       "    <tr>\n",
       "      <th>2</th>\n",
       "      <td>Dog</td>\n",
       "      <td>Miniature Poodle/Maltese</td>\n",
       "      <td>Cream</td>\n",
       "      <td>2015</td>\n",
       "      <td>06</td>\n",
       "      <td>Female</td>\n",
       "      <td>Spayed</td>\n",
       "      <td>104.0</td>\n",
       "    </tr>\n",
       "    <tr>\n",
       "      <th>3</th>\n",
       "      <td>Cat</td>\n",
       "      <td>Domestic Shorthair Mix</td>\n",
       "      <td>Tortie</td>\n",
       "      <td>2014</td>\n",
       "      <td>05</td>\n",
       "      <td>Female</td>\n",
       "      <td>Intact</td>\n",
       "      <td>3.0</td>\n",
       "    </tr>\n",
       "    <tr>\n",
       "      <th>4</th>\n",
       "      <td>Cat</td>\n",
       "      <td>Domestic Shorthair Mix</td>\n",
       "      <td>Black/White</td>\n",
       "      <td>2014</td>\n",
       "      <td>07</td>\n",
       "      <td>Female</td>\n",
       "      <td>Spayed</td>\n",
       "      <td>4.0</td>\n",
       "    </tr>\n",
       "  </tbody>\n",
       "</table>\n",
       "</div>"
      ],
      "text/plain": [
       "  AnimalType                     Breed              Color  year month  gender  \\\n",
       "0        Cat    Domestic Shorthair Mix  White/Brown Tabby  2015    09    Male   \n",
       "1        Dog   Chihuahua Shorthair Mix           Tricolor  2015    01    Male   \n",
       "2        Dog  Miniature Poodle/Maltese              Cream  2015    06  Female   \n",
       "3        Cat    Domestic Shorthair Mix             Tortie  2014    05  Female   \n",
       "4        Cat    Domestic Shorthair Mix        Black/White  2014    07  Female   \n",
       "\n",
       "      state  age_weeks  \n",
       "0  Neutered        8.0  \n",
       "1  Neutered      468.0  \n",
       "2    Spayed      104.0  \n",
       "3    Intact        3.0  \n",
       "4    Spayed        4.0  "
      ]
     },
     "execution_count": 69,
     "metadata": {},
     "output_type": "execute_result"
    }
   ],
   "source": [
    "train_features.head()"
   ]
  },
  {
   "cell_type": "code",
   "execution_count": 70,
   "metadata": {},
   "outputs": [
    {
     "data": {
      "text/html": [
       "<div>\n",
       "<style scoped>\n",
       "    .dataframe tbody tr th:only-of-type {\n",
       "        vertical-align: middle;\n",
       "    }\n",
       "\n",
       "    .dataframe tbody tr th {\n",
       "        vertical-align: top;\n",
       "    }\n",
       "\n",
       "    .dataframe thead th {\n",
       "        text-align: right;\n",
       "    }\n",
       "</style>\n",
       "<table border=\"1\" class=\"dataframe\">\n",
       "  <thead>\n",
       "    <tr style=\"text-align: right;\">\n",
       "      <th></th>\n",
       "      <th>AnimalType</th>\n",
       "      <th>Breed</th>\n",
       "      <th>Color</th>\n",
       "      <th>year</th>\n",
       "      <th>month</th>\n",
       "      <th>gender</th>\n",
       "      <th>state</th>\n",
       "      <th>age_weeks</th>\n",
       "    </tr>\n",
       "    <tr>\n",
       "      <th>ID</th>\n",
       "      <th></th>\n",
       "      <th></th>\n",
       "      <th></th>\n",
       "      <th></th>\n",
       "      <th></th>\n",
       "      <th></th>\n",
       "      <th></th>\n",
       "      <th></th>\n",
       "    </tr>\n",
       "  </thead>\n",
       "  <tbody>\n",
       "    <tr>\n",
       "      <th>1</th>\n",
       "      <td>Dog</td>\n",
       "      <td>Labrador Retriever Mix</td>\n",
       "      <td>Red/White</td>\n",
       "      <td>2015</td>\n",
       "      <td>10</td>\n",
       "      <td>Female</td>\n",
       "      <td>Intact</td>\n",
       "      <td>4.0</td>\n",
       "    </tr>\n",
       "    <tr>\n",
       "      <th>2</th>\n",
       "      <td>Dog</td>\n",
       "      <td>German Shepherd/Siberian Husky</td>\n",
       "      <td>Black/Tan</td>\n",
       "      <td>2014</td>\n",
       "      <td>07</td>\n",
       "      <td>Female</td>\n",
       "      <td>Spayed</td>\n",
       "      <td>104.0</td>\n",
       "    </tr>\n",
       "    <tr>\n",
       "      <th>3</th>\n",
       "      <td>Cat</td>\n",
       "      <td>Domestic Shorthair Mix</td>\n",
       "      <td>Brown Tabby</td>\n",
       "      <td>2016</td>\n",
       "      <td>01</td>\n",
       "      <td>Male</td>\n",
       "      <td>Neutered</td>\n",
       "      <td>52.0</td>\n",
       "    </tr>\n",
       "    <tr>\n",
       "      <th>4</th>\n",
       "      <td>Dog</td>\n",
       "      <td>Collie Smooth Mix</td>\n",
       "      <td>Tricolor</td>\n",
       "      <td>2013</td>\n",
       "      <td>12</td>\n",
       "      <td>Male</td>\n",
       "      <td>Intact</td>\n",
       "      <td>16.0</td>\n",
       "    </tr>\n",
       "    <tr>\n",
       "      <th>5</th>\n",
       "      <td>Dog</td>\n",
       "      <td>Miniature Poodle Mix</td>\n",
       "      <td>White</td>\n",
       "      <td>2015</td>\n",
       "      <td>09</td>\n",
       "      <td>Male</td>\n",
       "      <td>Neutered</td>\n",
       "      <td>104.0</td>\n",
       "    </tr>\n",
       "  </tbody>\n",
       "</table>\n",
       "</div>"
      ],
      "text/plain": [
       "   AnimalType                           Breed        Color  year month  \\\n",
       "ID                                                                       \n",
       "1         Dog          Labrador Retriever Mix    Red/White  2015    10   \n",
       "2         Dog  German Shepherd/Siberian Husky    Black/Tan  2014    07   \n",
       "3         Cat          Domestic Shorthair Mix  Brown Tabby  2016    01   \n",
       "4         Dog               Collie Smooth Mix     Tricolor  2013    12   \n",
       "5         Dog            Miniature Poodle Mix        White  2015    09   \n",
       "\n",
       "    gender     state  age_weeks  \n",
       "ID                               \n",
       "1   Female    Intact        4.0  \n",
       "2   Female    Spayed      104.0  \n",
       "3     Male  Neutered       52.0  \n",
       "4     Male    Intact       16.0  \n",
       "5     Male  Neutered      104.0  "
      ]
     },
     "execution_count": 70,
     "metadata": {},
     "output_type": "execute_result"
    }
   ],
   "source": [
    "test_data.head()"
   ]
  },
  {
   "cell_type": "code",
   "execution_count": 71,
   "metadata": {},
   "outputs": [
    {
     "data": {
      "text/plain": [
       "((26729, 8), (11456, 8))"
      ]
     },
     "execution_count": 71,
     "metadata": {},
     "output_type": "execute_result"
    }
   ],
   "source": [
    "train_features.shape, test_data.shape"
   ]
  },
  {
   "cell_type": "markdown",
   "metadata": {},
   "source": [
    "### III.4. Split data into training and validation"
   ]
  },
  {
   "cell_type": "markdown",
   "metadata": {},
   "source": [
    "Train data is used for training the model, and validation (15%) - for selecting the best performing one. A brief check confirms the splitting was properly made."
   ]
  },
  {
   "cell_type": "code",
   "execution_count": 72,
   "metadata": {},
   "outputs": [],
   "source": [
    "train_f, val_f, train_lb, val_lb = train_test_split(train_features, train_labels, \n",
    "                                            test_size = 0.15, stratify = train_labels)"
   ]
  },
  {
   "cell_type": "code",
   "execution_count": 73,
   "metadata": {},
   "outputs": [
    {
     "data": {
      "text/plain": [
       "((22719, 8), (22719,), (4010, 8), (4010,))"
      ]
     },
     "execution_count": 73,
     "metadata": {},
     "output_type": "execute_result"
    }
   ],
   "source": [
    "train_f.shape, train_lb.shape, val_f.shape, val_lb.shape"
   ]
  },
  {
   "cell_type": "markdown",
   "metadata": {},
   "source": [
    "### III.5. Concatenate Train, Validation, and Test data"
   ]
  },
  {
   "cell_type": "markdown",
   "metadata": {},
   "source": [
    "Categorical values should be converted in numerical ones. A better approach is to *one-hot-encode* them. However, it turned out that this approch wouldn't work since \"Breed\" and \"Color\" columns have many and different unique values; thus, `pd.get_dummies()` applied over training and testing data returned matrices of different shape. Neither model would be able to predict a probability over a matrix of shape *X* if trained on matrix of shape *Z*. For this reason, the less desirable approach - `LabelEncoder()` - is used instead. It assigns numeric values on each unique category.\n",
    "\n",
    "To avoid missmatch during label encoding (since one set might not contain a given pet breed or color), all three are concatenated. Thus, the function takes into account all possible categorical values when replacing them with numbers. Inserting a new \"set\" column with \"train\", \"val\", and \"test\" values, respectively, makes possible splitting the dataset back again."
   ]
  },
  {
   "cell_type": "code",
   "execution_count": 74,
   "metadata": {},
   "outputs": [],
   "source": [
    "train_f[\"set\"] = \"train\"\n",
    "val_f[\"set\"] = \"val\"\n",
    "test_data[\"set\"] = \"test\""
   ]
  },
  {
   "cell_type": "code",
   "execution_count": 75,
   "metadata": {},
   "outputs": [],
   "source": [
    "all_features = pd.concat([train_f, val_f, test_data])"
   ]
  },
  {
   "cell_type": "markdown",
   "metadata": {},
   "source": [
    "### III.4. Encoding categorical variables"
   ]
  },
  {
   "cell_type": "markdown",
   "metadata": {},
   "source": [
    "Five features hold categorical variables. `LabelEncoder()` should have been applied 5 times if all columns had to be treated separately. Instead, the function below (offered by a [StackOverflow](https://stackoverflow.com/questions/24458645/label-encoding-across-multiple-columns-in-scikit-learn) user) encodes all features at once."
   ]
  },
  {
   "cell_type": "code",
   "execution_count": 76,
   "metadata": {},
   "outputs": [],
   "source": [
    "class MultiColumnLabelEncoder:\n",
    "    def __init__(self,columns = None):\n",
    "        self.columns = columns # array of column names to encode\n",
    "\n",
    "    def fit(self, X, y = None):\n",
    "        return self # not relevant here\n",
    "\n",
    "    def transform(self,X):\n",
    "        '''\n",
    "        Transforms columns of X specified in self.columns using\n",
    "        LabelEncoder(). If no columns specified, transforms all\n",
    "        columns in X.\n",
    "        '''\n",
    "        output = X.copy()\n",
    "        if self.columns is not None:\n",
    "            for col in self.columns:\n",
    "                output[col] = LabelEncoder().fit_transform(output[col])\n",
    "        else:\n",
    "            for colname,col in output.iteritems():\n",
    "                output[colname] = LabelEncoder().fit_transform(col)\n",
    "        return output\n",
    "\n",
    "    def fit_transform(self, X, y=None):\n",
    "        return self.fit(X, y).transform(X)"
   ]
  },
  {
   "cell_type": "code",
   "execution_count": 77,
   "metadata": {},
   "outputs": [],
   "source": [
    "all_features = MultiColumnLabelEncoder(columns = [\"AnimalType\", \"Breed\", \"Color\",\n",
    "                                    \"gender\", \"state\"]).fit_transform(all_features)"
   ]
  },
  {
   "cell_type": "markdown",
   "metadata": {},
   "source": [
    "Thereafter, the data are split back into training, validation, and testing, and the \"set\" column - removed."
   ]
  },
  {
   "cell_type": "code",
   "execution_count": 78,
   "metadata": {},
   "outputs": [],
   "source": [
    "train_f_encoded = all_features[all_features[\"set\"] == \"train\"]\n",
    "val_f_encoded = all_features[all_features[\"set\"] == \"val\"]\n",
    "test_f_encoded = all_features[all_features[\"set\"] == \"test\"]"
   ]
  },
  {
   "cell_type": "code",
   "execution_count": 79,
   "metadata": {},
   "outputs": [],
   "source": [
    "train_f_encoded.drop(\"set\", axis = 1, inplace = True)\n",
    "val_f_encoded.drop(\"set\", axis = 1, inplace = True)\n",
    "test_f_encoded.drop(\"set\", axis = 1, inplace = True)"
   ]
  },
  {
   "cell_type": "markdown",
   "metadata": {},
   "source": [
    "### III.5. Encoding labels"
   ]
  },
  {
   "cell_type": "markdown",
   "metadata": {},
   "source": [
    "Labels are encoded separately. The code lines below replaces categorical \"OutcomeType\" with a numeric one."
   ]
  },
  {
   "cell_type": "code",
   "execution_count": 80,
   "metadata": {},
   "outputs": [],
   "source": [
    "label_encoder = LabelEncoder()"
   ]
  },
  {
   "cell_type": "code",
   "execution_count": 81,
   "metadata": {},
   "outputs": [],
   "source": [
    "train_lab = label_encoder.fit_transform(train_lb)"
   ]
  },
  {
   "cell_type": "code",
   "execution_count": 82,
   "metadata": {},
   "outputs": [],
   "source": [
    "val_lab = label_encoder.fit_transform(val_lb)"
   ]
  },
  {
   "cell_type": "markdown",
   "metadata": {},
   "source": [
    "A brief check confirms the datasets are in the proper shape."
   ]
  },
  {
   "cell_type": "code",
   "execution_count": 83,
   "metadata": {},
   "outputs": [
    {
     "data": {
      "text/plain": [
       "((22719, 8), (22719,), (4010, 8), (4010,))"
      ]
     },
     "execution_count": 83,
     "metadata": {},
     "output_type": "execute_result"
    }
   ],
   "source": [
    "train_f_encoded.shape, train_lab.shape, val_f_encoded.shape, val_lab.shape"
   ]
  },
  {
   "cell_type": "markdown",
   "metadata": {},
   "source": [
    "### III.6. Scaling features"
   ]
  },
  {
   "cell_type": "markdown",
   "metadata": {},
   "source": [
    "Numeric values in all features should be normalized, i.e., should be within one and the same range. This will prevent the machine learning algorithm to assign greater weight to larger values. For this reason, all values are scaled between 0 and 1. Normalization is performed with `MinMaxScaler()`."
   ]
  },
  {
   "cell_type": "code",
   "execution_count": 84,
   "metadata": {},
   "outputs": [],
   "source": [
    "scaler = MinMaxScaler()"
   ]
  },
  {
   "cell_type": "code",
   "execution_count": 85,
   "metadata": {},
   "outputs": [],
   "source": [
    "train_f_scaled = scaler.fit_transform(train_f_encoded)\n",
    "val_f_scaled = scaler.fit_transform(val_f_encoded)\n",
    "test_f_scaled = scaler.fit_transform(test_f_encoded)"
   ]
  },
  {
   "cell_type": "markdown",
   "metadata": {},
   "source": [
    "A brief check confirms the features were successfully normalized."
   ]
  },
  {
   "cell_type": "code",
   "execution_count": 86,
   "metadata": {},
   "outputs": [
    {
     "data": {
      "text/plain": [
       "(0.0, 1.0)"
      ]
     },
     "execution_count": 86,
     "metadata": {},
     "output_type": "execute_result"
    }
   ],
   "source": [
    "train_f_scaled.min(), train_f_scaled.max()"
   ]
  },
  {
   "cell_type": "markdown",
   "metadata": {},
   "source": [
    "## IV. Building and selecting a Classifier\n",
    "### IV.1. Build a `base` model"
   ]
  },
  {
   "cell_type": "markdown",
   "metadata": {},
   "source": [
    "A simple `LogisticRegression()` function will be used for base classification model. If performs well, it will predict the outcomes on the testing data; if not, other algorithms will be tried and tested. Models are tuned and evaluated according to their performance on `f1_score` - a harmonic mean of precision and recall - both classification metrics. It should be instantiated before being fed to the `GridSearchCV()` algorithm. The latter searches for the best performing model within a given range of pre-selected hyper-parameters. These are stored in a \"params\" dictionary. Searching is cross-validated over 4 folds; one is kept for validation."
   ]
  },
  {
   "cell_type": "code",
   "execution_count": 87,
   "metadata": {},
   "outputs": [],
   "source": [
    "f1 = make_scorer(f1_score , average = \"weighted\")"
   ]
  },
  {
   "cell_type": "code",
   "execution_count": 88,
   "metadata": {},
   "outputs": [],
   "source": [
    "params_lg = {\n",
    "    \"penalty\": [\"l1\", \"l2\"],\n",
    "    \"C\": [0.1, 0.01, 0.001, 0.0001, 0.00001]}"
   ]
  },
  {
   "cell_type": "code",
   "execution_count": 89,
   "metadata": {},
   "outputs": [],
   "source": [
    "grid_search_lg = GridSearchCV(LogisticRegression(solver = \"liblinear\"), \n",
    "                              param_grid = params_lg, \n",
    "                              scoring = f1, \n",
    "                              cv = 5)"
   ]
  },
  {
   "cell_type": "markdown",
   "metadata": {},
   "source": [
    "##### Grid Search for best Logistic Regression model"
   ]
  },
  {
   "cell_type": "code",
   "execution_count": 90,
   "metadata": {},
   "outputs": [
    {
     "data": {
      "text/plain": [
       "GridSearchCV(cv=5, estimator=LogisticRegression(solver='liblinear'),\n",
       "             param_grid={'C': [0.1, 0.01, 0.001, 0.0001, 1e-05],\n",
       "                         'penalty': ['l1', 'l2']},\n",
       "             scoring=make_scorer(f1_score, average=weighted))"
      ]
     },
     "execution_count": 90,
     "metadata": {},
     "output_type": "execute_result"
    }
   ],
   "source": [
    "grid_search_lg.fit(train_f_scaled, train_lab)"
   ]
  },
  {
   "cell_type": "markdown",
   "metadata": {},
   "source": [
    "##### Check cross-validation results and best performing Logistic Regression model"
   ]
  },
  {
   "cell_type": "code",
   "execution_count": 91,
   "metadata": {},
   "outputs": [
    {
     "data": {
      "text/plain": [
       "{'mean_fit_time': array([0.32715154, 0.1394814 , 0.16124949, 0.11556435, 0.06174707,\n",
       "        0.08764668, 0.02675061, 0.06085582, 0.02544947, 0.05518517]),\n",
       " 'std_fit_time': array([0.01503035, 0.00211959, 0.00881346, 0.0019699 , 0.00234465,\n",
       "        0.00262596, 0.00295591, 0.00267739, 0.00256857, 0.00300854]),\n",
       " 'mean_score_time': array([0.00404863, 0.00400338, 0.0039289 , 0.00319643, 0.00400095,\n",
       "        0.00400052, 0.00284381, 0.00425153, 0.00211248, 0.00320024]),\n",
       " 'std_score_time': array([1.82476391e-04, 8.77898519e-06, 1.49973814e-04, 1.59821791e-03,\n",
       "        7.59953377e-07, 2.43140197e-07, 1.59349951e-03, 5.11282990e-04,\n",
       "        1.81788384e-03, 1.60012251e-03]),\n",
       " 'param_C': masked_array(data=[0.1, 0.1, 0.01, 0.01, 0.001, 0.001, 0.0001, 0.0001,\n",
       "                    1e-05, 1e-05],\n",
       "              mask=[False, False, False, False, False, False, False, False,\n",
       "                    False, False],\n",
       "        fill_value='?',\n",
       "             dtype=object),\n",
       " 'param_penalty': masked_array(data=['l1', 'l2', 'l1', 'l2', 'l1', 'l2', 'l1', 'l2', 'l1',\n",
       "                    'l2'],\n",
       "              mask=[False, False, False, False, False, False, False, False,\n",
       "                    False, False],\n",
       "        fill_value='?',\n",
       "             dtype=object),\n",
       " 'params': [{'C': 0.1, 'penalty': 'l1'},\n",
       "  {'C': 0.1, 'penalty': 'l2'},\n",
       "  {'C': 0.01, 'penalty': 'l1'},\n",
       "  {'C': 0.01, 'penalty': 'l2'},\n",
       "  {'C': 0.001, 'penalty': 'l1'},\n",
       "  {'C': 0.001, 'penalty': 'l2'},\n",
       "  {'C': 0.0001, 'penalty': 'l1'},\n",
       "  {'C': 0.0001, 'penalty': 'l2'},\n",
       "  {'C': 1e-05, 'penalty': 'l1'},\n",
       "  {'C': 1e-05, 'penalty': 'l2'}],\n",
       " 'split0_test_score': array([0.50117735, 0.50051147, 0.49740715, 0.48630042, 0.38658849,\n",
       "        0.39101442, 0.23146651, 0.23146651, 0.23146651, 0.23146651]),\n",
       " 'split1_test_score': array([0.49865443, 0.49692017, 0.49466874, 0.48320438, 0.38124081,\n",
       "        0.38572292, 0.23146651, 0.23146651, 0.23146651, 0.23146651]),\n",
       " 'split2_test_score': array([0.50889661, 0.50807886, 0.49874587, 0.49185188, 0.39638657,\n",
       "        0.40194441, 0.23125003, 0.23125003, 0.23125003, 0.23125003]),\n",
       " 'split3_test_score': array([0.51377608, 0.51128493, 0.50001185, 0.48850345, 0.39356237,\n",
       "        0.40667998, 0.23125003, 0.23125003, 0.23125003, 0.23125003]),\n",
       " 'split4_test_score': array([0.5075219 , 0.50618236, 0.50358629, 0.48416145, 0.37755948,\n",
       "        0.39222028, 0.23155379, 0.23155379, 0.23155379, 0.23155379]),\n",
       " 'mean_test_score': array([0.50600527, 0.50459556, 0.49888398, 0.48680432, 0.38706754,\n",
       "        0.3955164 , 0.23139737, 0.23139737, 0.23139737, 0.23139737]),\n",
       " 'std_test_score': array([0.00544774, 0.00519597, 0.00294456, 0.00311651, 0.00712195,\n",
       "        0.00765492, 0.00012446, 0.00012446, 0.00012446, 0.00012446]),\n",
       " 'rank_test_score': array([1, 2, 3, 4, 6, 5, 7, 7, 7, 7])}"
      ]
     },
     "execution_count": 91,
     "metadata": {},
     "output_type": "execute_result"
    }
   ],
   "source": [
    "grid_search_lg.cv_results_"
   ]
  },
  {
   "cell_type": "code",
   "execution_count": 92,
   "metadata": {},
   "outputs": [
    {
     "data": {
      "text/plain": [
       "{'C': 0.1, 'penalty': 'l1'}"
      ]
     },
     "execution_count": 92,
     "metadata": {},
     "output_type": "execute_result"
    }
   ],
   "source": [
    "grid_search_lg.best_params_"
   ]
  },
  {
   "cell_type": "markdown",
   "metadata": {},
   "source": [
    "The output above suggests that a model with minor regularization (C = 0.01) and \"l1\" penalty performs best. These values are entered in the selected hyper-parameters."
   ]
  },
  {
   "cell_type": "code",
   "execution_count": 93,
   "metadata": {},
   "outputs": [],
   "source": [
    "model_lg = LogisticRegression(solver='liblinear', penalty = \"l1\", C = 0.1)"
   ]
  },
  {
   "cell_type": "markdown",
   "metadata": {},
   "source": [
    "##### Train and evaluate model performance"
   ]
  },
  {
   "cell_type": "markdown",
   "metadata": {},
   "source": [
    "Model training, prediction and evaluation is a repetitive task. Therefore, it is wrapped in a function."
   ]
  },
  {
   "cell_type": "code",
   "execution_count": 94,
   "metadata": {},
   "outputs": [],
   "source": [
    "def classification_task(estimator, features, labels):\n",
    "    \"\"\"\n",
    "    Function: \"fit\", \"predict\" and \"score\" values of an estimator.\n",
    "    \n",
    "    Parameters: estimator, features (X) and labels (y).\n",
    "    \n",
    "    Returns: model's performance measured as accuracy and f1_score.\n",
    "    \"\"\"\n",
    "    estimator.fit(features, labels)\n",
    "    predictions = estimator.predict(features)\n",
    "    \n",
    "    print(f\"Accuracy: {accuracy_score(labels, predictions)}\")\n",
    "    print(f\"F1 score: {f1_score(labels, predictions, average = 'weighted')}\")"
   ]
  },
  {
   "cell_type": "code",
   "execution_count": 95,
   "metadata": {},
   "outputs": [
    {
     "name": "stdout",
     "output_type": "stream",
     "text": [
      "Accuracy: 0.5359830978476166\n",
      "F1 score: 0.5066739099036186\n"
     ]
    }
   ],
   "source": [
    "classification_task(model_lg, train_f_scaled, train_lab) "
   ]
  },
  {
   "cell_type": "code",
   "execution_count": 96,
   "metadata": {},
   "outputs": [
    {
     "name": "stdout",
     "output_type": "stream",
     "text": [
      "Accuracy: 0.5244389027431422\n",
      "F1 score: 0.48916832112118\n"
     ]
    }
   ],
   "source": [
    "classification_task(model_lg, val_f_scaled, val_lab) # Not too good, try stronger algorithm"
   ]
  },
  {
   "cell_type": "markdown",
   "metadata": {},
   "source": [
    "Logistic Regression barely achived 50% accuracy and f1 score both on training and validation data. Hence, it could not be said that it is a good estimator. For this reason, a stronger algorithm will be tried."
   ]
  },
  {
   "cell_type": "markdown",
   "metadata": {},
   "source": [
    "### IV.2. Search for stronger classifier"
   ]
  },
  {
   "cell_type": "markdown",
   "metadata": {},
   "source": [
    "Instead of trying and testing several algorithms in a row, the code lines below help for building a grid of estimators and their hyper-parameters. `Pipeline()` (default `DecisionTreeClassifier()`) is fed as a base estimator to the `GridSearchCV` algorithm. Thereafter, grid space for its hyper-parameters, along with those of `RandomForestClassifier()` are placed into the \"params\" dictionary. These are given to `GridSearchCV` to find the combination that returns the best results (the highest f1 score)."
   ]
  },
  {
   "cell_type": "code",
   "execution_count": 97,
   "metadata": {},
   "outputs": [],
   "source": [
    "pipe = Pipeline(steps = [(\"estimator\", DecisionTreeClassifier())])"
   ]
  },
  {
   "cell_type": "code",
   "execution_count": 98,
   "metadata": {},
   "outputs": [],
   "source": [
    "params_all = [{\n",
    "            \"estimator\": [DecisionTreeClassifier()],\n",
    "            \"estimator__max_depth\": [2, 5, 10, 15, 20],\n",
    "            \"estimator__min_samples_leaf\": [1, 2, 3]\n",
    "            },\n",
    "            {\n",
    "            \"estimator\": [RandomForestClassifier()],\n",
    "            \"estimator__n_estimators\": [5, 10, 15, 20],\n",
    "            \"estimator__max_depth\": [5, 10, 15]\n",
    "            }]"
   ]
  },
  {
   "cell_type": "code",
   "execution_count": 99,
   "metadata": {},
   "outputs": [],
   "source": [
    "grid_search_all = GridSearchCV(pipe, param_grid = params_all, \n",
    "                               scoring = f1, \n",
    "                               cv = 5)"
   ]
  },
  {
   "cell_type": "markdown",
   "metadata": {},
   "source": [
    "##### Grid Search for best Classifier"
   ]
  },
  {
   "cell_type": "code",
   "execution_count": 100,
   "metadata": {},
   "outputs": [
    {
     "data": {
      "text/plain": [
       "GridSearchCV(cv=5,\n",
       "             estimator=Pipeline(steps=[('estimator',\n",
       "                                        DecisionTreeClassifier())]),\n",
       "             param_grid=[{'estimator': [DecisionTreeClassifier(max_depth=5,\n",
       "                                                               min_samples_leaf=3)],\n",
       "                          'estimator__max_depth': [2, 5, 10, 15, 20],\n",
       "                          'estimator__min_samples_leaf': [1, 2, 3]},\n",
       "                         {'estimator': [RandomForestClassifier()],\n",
       "                          'estimator__max_depth': [5, 10, 15],\n",
       "                          'estimator__n_estimators': [5, 10, 15, 20]}],\n",
       "             scoring=make_scorer(f1_score, average=weighted))"
      ]
     },
     "execution_count": 100,
     "metadata": {},
     "output_type": "execute_result"
    }
   ],
   "source": [
    "grid_search_all.fit(train_f_scaled, train_lab)"
   ]
  },
  {
   "cell_type": "markdown",
   "metadata": {},
   "source": [
    "##### Check cross-validation results and best performing classifier"
   ]
  },
  {
   "cell_type": "code",
   "execution_count": 101,
   "metadata": {},
   "outputs": [
    {
     "data": {
      "text/plain": [
       "{'mean_fit_time': array([0.01359935, 0.01280026, 0.01121187, 0.01906781, 0.01930761,\n",
       "        0.01653929, 0.03282256, 0.03411274, 0.03939929, 0.0472508 ,\n",
       "        0.06793947, 0.05541048, 0.08164492, 0.06712499, 0.05662088,\n",
       "        0.06116529, 0.06948886, 0.09179549, 0.1162333 , 0.04623528,\n",
       "        0.09008479, 0.13697901, 0.17610316, 0.0644248 , 0.13310809,\n",
       "        0.18833199, 0.25324559]),\n",
       " 'std_fit_time': array([0.00195937, 0.00159988, 0.00161179, 0.00155854, 0.00280213,\n",
       "        0.00097772, 0.00189889, 0.00442338, 0.00361843, 0.00497552,\n",
       "        0.00857745, 0.01312423, 0.01367567, 0.00746927, 0.01659571,\n",
       "        0.03030491, 0.01420324, 0.00512746, 0.00447908, 0.0034399 ,\n",
       "        0.00617527, 0.0070829 , 0.00807575, 0.00422824, 0.01088984,\n",
       "        0.00924911, 0.00861959]),\n",
       " 'mean_score_time': array([0.00400047, 0.00240006, 0.00168176, 0.00240068, 0.0020196 ,\n",
       "        0.00238886, 0.00238514, 0.00239782, 0.00401568, 0.00404439,\n",
       "        0.00604444, 0.00315962, 0.00539656, 0.00293212, 0.00318341,\n",
       "        0.00792527, 0.00482306, 0.00691385, 0.0116497 , 0.00182428,\n",
       "        0.01045175, 0.01439819, 0.01914787, 0.00939717, 0.01286926,\n",
       "        0.01518097, 0.02135458]),\n",
       " 'std_score_time': array([4.62310777e-07, 1.95964458e-03, 2.06068049e-03, 1.96123344e-03,\n",
       "        1.77959376e-03, 1.95069481e-03, 1.94768326e-03, 1.95883471e-03,\n",
       "        5.33740341e-05, 5.01243183e-05, 1.78603122e-03, 1.58038273e-03,\n",
       "        2.57016408e-03, 1.56665035e-03, 1.59208300e-03, 5.31650853e-03,\n",
       "        5.45422113e-03, 3.96450764e-03, 3.00488283e-03, 2.70856476e-03,\n",
       "        2.60463253e-04, 4.27202505e-03, 3.51493198e-03, 1.08278539e-03,\n",
       "        3.91439102e-03, 4.40496831e-03, 2.39603152e-03]),\n",
       " 'param_estimator': masked_array(data=[DecisionTreeClassifier(max_depth=5, min_samples_leaf=3),\n",
       "                    DecisionTreeClassifier(max_depth=5, min_samples_leaf=3),\n",
       "                    DecisionTreeClassifier(max_depth=5, min_samples_leaf=3),\n",
       "                    DecisionTreeClassifier(max_depth=5, min_samples_leaf=3),\n",
       "                    DecisionTreeClassifier(max_depth=5, min_samples_leaf=3),\n",
       "                    DecisionTreeClassifier(max_depth=5, min_samples_leaf=3),\n",
       "                    DecisionTreeClassifier(max_depth=5, min_samples_leaf=3),\n",
       "                    DecisionTreeClassifier(max_depth=5, min_samples_leaf=3),\n",
       "                    DecisionTreeClassifier(max_depth=5, min_samples_leaf=3),\n",
       "                    DecisionTreeClassifier(max_depth=5, min_samples_leaf=3),\n",
       "                    DecisionTreeClassifier(max_depth=5, min_samples_leaf=3),\n",
       "                    DecisionTreeClassifier(max_depth=5, min_samples_leaf=3),\n",
       "                    DecisionTreeClassifier(max_depth=5, min_samples_leaf=3),\n",
       "                    DecisionTreeClassifier(max_depth=5, min_samples_leaf=3),\n",
       "                    DecisionTreeClassifier(max_depth=5, min_samples_leaf=3),\n",
       "                    RandomForestClassifier(), RandomForestClassifier(),\n",
       "                    RandomForestClassifier(), RandomForestClassifier(),\n",
       "                    RandomForestClassifier(), RandomForestClassifier(),\n",
       "                    RandomForestClassifier(), RandomForestClassifier(),\n",
       "                    RandomForestClassifier(), RandomForestClassifier(),\n",
       "                    RandomForestClassifier(), RandomForestClassifier()],\n",
       "              mask=[False, False, False, False, False, False, False, False,\n",
       "                    False, False, False, False, False, False, False, False,\n",
       "                    False, False, False, False, False, False, False, False,\n",
       "                    False, False, False],\n",
       "        fill_value='?',\n",
       "             dtype=object),\n",
       " 'param_estimator__max_depth': masked_array(data=[2, 2, 2, 5, 5, 5, 10, 10, 10, 15, 15, 15, 20, 20, 20,\n",
       "                    5, 5, 5, 5, 10, 10, 10, 10, 15, 15, 15, 15],\n",
       "              mask=[False, False, False, False, False, False, False, False,\n",
       "                    False, False, False, False, False, False, False, False,\n",
       "                    False, False, False, False, False, False, False, False,\n",
       "                    False, False, False],\n",
       "        fill_value='?',\n",
       "             dtype=object),\n",
       " 'param_estimator__min_samples_leaf': masked_array(data=[1, 2, 3, 1, 2, 3, 1, 2, 3, 1, 2, 3, 1, 2, 3, --, --,\n",
       "                    --, --, --, --, --, --, --, --, --, --],\n",
       "              mask=[False, False, False, False, False, False, False, False,\n",
       "                    False, False, False, False, False, False, False,  True,\n",
       "                     True,  True,  True,  True,  True,  True,  True,  True,\n",
       "                     True,  True,  True],\n",
       "        fill_value='?',\n",
       "             dtype=object),\n",
       " 'param_estimator__n_estimators': masked_array(data=[--, --, --, --, --, --, --, --, --, --, --, --, --, --,\n",
       "                    --, 5, 10, 15, 20, 5, 10, 15, 20, 5, 10, 15, 20],\n",
       "              mask=[ True,  True,  True,  True,  True,  True,  True,  True,\n",
       "                     True,  True,  True,  True,  True,  True,  True, False,\n",
       "                    False, False, False, False, False, False, False, False,\n",
       "                    False, False, False],\n",
       "        fill_value='?',\n",
       "             dtype=object),\n",
       " 'params': [{'estimator': DecisionTreeClassifier(max_depth=5, min_samples_leaf=3),\n",
       "   'estimator__max_depth': 2,\n",
       "   'estimator__min_samples_leaf': 1},\n",
       "  {'estimator': DecisionTreeClassifier(max_depth=5, min_samples_leaf=3),\n",
       "   'estimator__max_depth': 2,\n",
       "   'estimator__min_samples_leaf': 2},\n",
       "  {'estimator': DecisionTreeClassifier(max_depth=5, min_samples_leaf=3),\n",
       "   'estimator__max_depth': 2,\n",
       "   'estimator__min_samples_leaf': 3},\n",
       "  {'estimator': DecisionTreeClassifier(max_depth=5, min_samples_leaf=3),\n",
       "   'estimator__max_depth': 5,\n",
       "   'estimator__min_samples_leaf': 1},\n",
       "  {'estimator': DecisionTreeClassifier(max_depth=5, min_samples_leaf=3),\n",
       "   'estimator__max_depth': 5,\n",
       "   'estimator__min_samples_leaf': 2},\n",
       "  {'estimator': DecisionTreeClassifier(max_depth=5, min_samples_leaf=3),\n",
       "   'estimator__max_depth': 5,\n",
       "   'estimator__min_samples_leaf': 3},\n",
       "  {'estimator': DecisionTreeClassifier(max_depth=5, min_samples_leaf=3),\n",
       "   'estimator__max_depth': 10,\n",
       "   'estimator__min_samples_leaf': 1},\n",
       "  {'estimator': DecisionTreeClassifier(max_depth=5, min_samples_leaf=3),\n",
       "   'estimator__max_depth': 10,\n",
       "   'estimator__min_samples_leaf': 2},\n",
       "  {'estimator': DecisionTreeClassifier(max_depth=5, min_samples_leaf=3),\n",
       "   'estimator__max_depth': 10,\n",
       "   'estimator__min_samples_leaf': 3},\n",
       "  {'estimator': DecisionTreeClassifier(max_depth=5, min_samples_leaf=3),\n",
       "   'estimator__max_depth': 15,\n",
       "   'estimator__min_samples_leaf': 1},\n",
       "  {'estimator': DecisionTreeClassifier(max_depth=5, min_samples_leaf=3),\n",
       "   'estimator__max_depth': 15,\n",
       "   'estimator__min_samples_leaf': 2},\n",
       "  {'estimator': DecisionTreeClassifier(max_depth=5, min_samples_leaf=3),\n",
       "   'estimator__max_depth': 15,\n",
       "   'estimator__min_samples_leaf': 3},\n",
       "  {'estimator': DecisionTreeClassifier(max_depth=5, min_samples_leaf=3),\n",
       "   'estimator__max_depth': 20,\n",
       "   'estimator__min_samples_leaf': 1},\n",
       "  {'estimator': DecisionTreeClassifier(max_depth=5, min_samples_leaf=3),\n",
       "   'estimator__max_depth': 20,\n",
       "   'estimator__min_samples_leaf': 2},\n",
       "  {'estimator': DecisionTreeClassifier(max_depth=5, min_samples_leaf=3),\n",
       "   'estimator__max_depth': 20,\n",
       "   'estimator__min_samples_leaf': 3},\n",
       "  {'estimator': RandomForestClassifier(),\n",
       "   'estimator__max_depth': 5,\n",
       "   'estimator__n_estimators': 5},\n",
       "  {'estimator': RandomForestClassifier(),\n",
       "   'estimator__max_depth': 5,\n",
       "   'estimator__n_estimators': 10},\n",
       "  {'estimator': RandomForestClassifier(),\n",
       "   'estimator__max_depth': 5,\n",
       "   'estimator__n_estimators': 15},\n",
       "  {'estimator': RandomForestClassifier(),\n",
       "   'estimator__max_depth': 5,\n",
       "   'estimator__n_estimators': 20},\n",
       "  {'estimator': RandomForestClassifier(),\n",
       "   'estimator__max_depth': 10,\n",
       "   'estimator__n_estimators': 5},\n",
       "  {'estimator': RandomForestClassifier(),\n",
       "   'estimator__max_depth': 10,\n",
       "   'estimator__n_estimators': 10},\n",
       "  {'estimator': RandomForestClassifier(),\n",
       "   'estimator__max_depth': 10,\n",
       "   'estimator__n_estimators': 15},\n",
       "  {'estimator': RandomForestClassifier(),\n",
       "   'estimator__max_depth': 10,\n",
       "   'estimator__n_estimators': 20},\n",
       "  {'estimator': RandomForestClassifier(),\n",
       "   'estimator__max_depth': 15,\n",
       "   'estimator__n_estimators': 5},\n",
       "  {'estimator': RandomForestClassifier(),\n",
       "   'estimator__max_depth': 15,\n",
       "   'estimator__n_estimators': 10},\n",
       "  {'estimator': RandomForestClassifier(),\n",
       "   'estimator__max_depth': 15,\n",
       "   'estimator__n_estimators': 15},\n",
       "  {'estimator': RandomForestClassifier(),\n",
       "   'estimator__max_depth': 15,\n",
       "   'estimator__n_estimators': 20}],\n",
       " 'split0_test_score': array([0.52356975, 0.52356975, 0.52356975, 0.59232186, 0.59232186,\n",
       "        0.59233102, 0.58695297, 0.58685807, 0.58620981, 0.56175226,\n",
       "        0.5579906 , 0.56570819, 0.5390698 , 0.55610048, 0.55947712,\n",
       "        0.52905299, 0.52924385, 0.53433586, 0.5292969 , 0.58370386,\n",
       "        0.57419813, 0.58568046, 0.57952059, 0.57784579, 0.58703629,\n",
       "        0.59379993, 0.59082345]),\n",
       " 'split1_test_score': array([0.52110524, 0.52110524, 0.52110524, 0.60388131, 0.60373416,\n",
       "        0.60388131, 0.5915142 , 0.59166455, 0.59255782, 0.56427878,\n",
       "        0.5675443 , 0.57040722, 0.54072067, 0.5499541 , 0.55712037,\n",
       "        0.52074377, 0.53418789, 0.52371234, 0.52183821, 0.56441588,\n",
       "        0.58686765, 0.59754085, 0.58390192, 0.57988979, 0.59215248,\n",
       "        0.59999013, 0.59442416]),\n",
       " 'split2_test_score': array([0.52037444, 0.52037444, 0.52037444, 0.6035072 , 0.6033607 ,\n",
       "        0.6035072 , 0.58906193, 0.58733695, 0.58613335, 0.56915941,\n",
       "        0.56354594, 0.56029354, 0.53546224, 0.53858673, 0.545904  ,\n",
       "        0.56001825, 0.52307049, 0.52599298, 0.52087131, 0.58047023,\n",
       "        0.5814896 , 0.58099001, 0.58212415, 0.57838616, 0.58494267,\n",
       "        0.58701239, 0.59108807]),\n",
       " 'split3_test_score': array([0.51994009, 0.51994009, 0.51994009, 0.59593964, 0.59593964,\n",
       "        0.59593964, 0.59087085, 0.59178464, 0.5900678 , 0.56159633,\n",
       "        0.5605414 , 0.57124277, 0.53951297, 0.54415507, 0.55636536,\n",
       "        0.52510349, 0.52104536, 0.52399082, 0.5204577 , 0.58496355,\n",
       "        0.58780892, 0.58258888, 0.57129292, 0.5773999 , 0.58143108,\n",
       "        0.58938669, 0.58981554]),\n",
       " 'split4_test_score': array([0.51870179, 0.51870179, 0.51870179, 0.59173789, 0.59159548,\n",
       "        0.59173789, 0.58042219, 0.57903623, 0.57951053, 0.54853459,\n",
       "        0.54457795, 0.55502476, 0.53260492, 0.53183806, 0.53779632,\n",
       "        0.5190483 , 0.51859756, 0.52828742, 0.52920015, 0.58041824,\n",
       "        0.57473809, 0.5767092 , 0.5796561 , 0.56904055, 0.57891145,\n",
       "        0.57771964, 0.57761192]),\n",
       " 'mean_test_score': array([0.52073826, 0.52073826, 0.52073826, 0.59747758, 0.59739037,\n",
       "        0.59747941, 0.58776443, 0.58733609, 0.58689586, 0.56106427,\n",
       "        0.55884004, 0.5645353 , 0.53747412, 0.54412689, 0.55133263,\n",
       "        0.53079336, 0.52522903, 0.52726388, 0.52433285, 0.57879435,\n",
       "        0.58102048, 0.58470188, 0.57929913, 0.57651244, 0.58489479,\n",
       "        0.58958176, 0.58875263]),\n",
       " 'std_test_score': array([0.0016167 , 0.0016167 , 0.0016167 , 0.0052774 , 0.00523954,\n",
       "        0.00527561, 0.00399903, 0.00463986, 0.00442073, 0.0068354 ,\n",
       "        0.00780939, 0.00615285, 0.003     , 0.00847387, 0.00822023,\n",
       "        0.01502291, 0.00570121, 0.00389877, 0.00403868, 0.0074074 ,\n",
       "        0.00577071, 0.00704163, 0.00432301, 0.00382915, 0.00458388,\n",
       "        0.00739563, 0.00578194]),\n",
       " 'rank_test_score': array([25, 25, 25,  2,  3,  1,  6,  7,  8, 16, 17, 15, 20, 19, 18, 21, 23,\n",
       "        22, 24, 13, 11, 10, 12, 14,  9,  4,  5])}"
      ]
     },
     "execution_count": 101,
     "metadata": {},
     "output_type": "execute_result"
    }
   ],
   "source": [
    "grid_search_all.cv_results_"
   ]
  },
  {
   "cell_type": "code",
   "execution_count": 102,
   "metadata": {},
   "outputs": [
    {
     "data": {
      "text/plain": [
       "{'estimator': DecisionTreeClassifier(max_depth=5, min_samples_leaf=3),\n",
       " 'estimator__max_depth': 5,\n",
       " 'estimator__min_samples_leaf': 3}"
      ]
     },
     "execution_count": 102,
     "metadata": {},
     "output_type": "execute_result"
    }
   ],
   "source": [
    "grid_search_all.best_params_"
   ]
  },
  {
   "cell_type": "markdown",
   "metadata": {},
   "source": [
    "Decision Tree with minimum 3 samples per leaf up to 5 levels deep performs best. These values are set as hyper-parameters."
   ]
  },
  {
   "cell_type": "code",
   "execution_count": 103,
   "metadata": {},
   "outputs": [],
   "source": [
    "model_dt = DecisionTreeClassifier(max_depth = 5, min_samples_leaf = 3)"
   ]
  },
  {
   "cell_type": "markdown",
   "metadata": {},
   "source": [
    "##### Train and evaluate model performance"
   ]
  },
  {
   "cell_type": "code",
   "execution_count": 104,
   "metadata": {},
   "outputs": [
    {
     "name": "stdout",
     "output_type": "stream",
     "text": [
      "Accuracy: 0.6222104846164004\n",
      "F1 score: 0.5992237323329117\n"
     ]
    }
   ],
   "source": [
    "classification_task(model_dt, train_f_scaled, train_lab)"
   ]
  },
  {
   "cell_type": "code",
   "execution_count": 105,
   "metadata": {},
   "outputs": [
    {
     "name": "stdout",
     "output_type": "stream",
     "text": [
      "Accuracy: 0.627930174563591\n",
      "F1 score: 0.6017085576197898\n"
     ]
    }
   ],
   "source": [
    "classification_task(model_dt, val_f_scaled, val_lab)"
   ]
  },
  {
   "cell_type": "markdown",
   "metadata": {},
   "source": [
    "Decision Tree does not perform much better. Another option is to fed the data into a much stronger algorithm - `Adaptive Boosting()` with `RandomForestClassifier()` as a base estimator. It's solution is given in the next sub-chapter."
   ]
  },
  {
   "cell_type": "markdown",
   "metadata": {},
   "source": [
    "### IV.3. Predict shelter outcome with AdaBoost"
   ]
  },
  {
   "cell_type": "markdown",
   "metadata": {},
   "source": [
    "Adaptive Boosting uses 20 estimators, namely `RandomForestClassifiers`, each having up to 10 levels deep 20 `DecisionTrees`."
   ]
  },
  {
   "cell_type": "code",
   "execution_count": 106,
   "metadata": {},
   "outputs": [],
   "source": [
    "model_ada = AdaBoostClassifier(RandomForestClassifier(n_estimators = 20, max_depth = 10),\n",
    "                            n_estimators = 20)"
   ]
  },
  {
   "cell_type": "markdown",
   "metadata": {},
   "source": [
    "##### Train and evaluate model performance"
   ]
  },
  {
   "cell_type": "code",
   "execution_count": 107,
   "metadata": {},
   "outputs": [
    {
     "name": "stdout",
     "output_type": "stream",
     "text": [
      "Accuracy: 0.8145164840001761\n",
      "F1 score: 0.8117668940617273\n"
     ]
    }
   ],
   "source": [
    "classification_task(model_ada, train_f_scaled, train_lab)"
   ]
  },
  {
   "cell_type": "code",
   "execution_count": 108,
   "metadata": {},
   "outputs": [
    {
     "name": "stdout",
     "output_type": "stream",
     "text": [
      "Accuracy: 0.8735660847880299\n",
      "F1 score: 0.8714442393020976\n"
     ]
    }
   ],
   "source": [
    "classification_task(model_ada, val_f_scaled, val_lab)"
   ]
  },
  {
   "cell_type": "markdown",
   "metadata": {},
   "source": [
    "AdaBoost performs much better not only on the training but on the validation data as well. Therefore, it will be used for predicting animal shelter outcomes on the testing set. `classification_task` cannot be applied to the testing data since real labels were not provided in the Kaggle competition. \n",
    "\n",
    "Predictions are computed and stored in the same format as that required by the sample submission template."
   ]
  },
  {
   "cell_type": "code",
   "execution_count": 109,
   "metadata": {},
   "outputs": [],
   "source": [
    "predictions = model_ada.predict(test_f_scaled)"
   ]
  },
  {
   "cell_type": "code",
   "execution_count": 110,
   "metadata": {},
   "outputs": [],
   "source": [
    "predictions_classes = label_encoder.inverse_transform(predictions)"
   ]
  },
  {
   "cell_type": "code",
   "execution_count": 111,
   "metadata": {},
   "outputs": [
    {
     "data": {
      "text/plain": [
       "array(['Transfer', 'Adoption', 'Adoption', ..., 'Transfer', 'Adoption',\n",
       "       'Transfer'], dtype=object)"
      ]
     },
     "execution_count": 111,
     "metadata": {},
     "output_type": "execute_result"
    }
   ],
   "source": [
    "predictions_classes"
   ]
  },
  {
   "cell_type": "markdown",
   "metadata": {},
   "source": [
    "Predictions are stored as a DataFrame. Thereafter, categorical values are one-hot-encoded."
   ]
  },
  {
   "cell_type": "code",
   "execution_count": 112,
   "metadata": {},
   "outputs": [],
   "source": [
    "predictions_classes_df = pd.DataFrame(predictions_classes)"
   ]
  },
  {
   "cell_type": "code",
   "execution_count": 113,
   "metadata": {},
   "outputs": [],
   "source": [
    "predictions_one_hot = pd.get_dummies(predictions_classes_df)"
   ]
  },
  {
   "cell_type": "code",
   "execution_count": 114,
   "metadata": {},
   "outputs": [
    {
     "data": {
      "text/html": [
       "<div>\n",
       "<style scoped>\n",
       "    .dataframe tbody tr th:only-of-type {\n",
       "        vertical-align: middle;\n",
       "    }\n",
       "\n",
       "    .dataframe tbody tr th {\n",
       "        vertical-align: top;\n",
       "    }\n",
       "\n",
       "    .dataframe thead th {\n",
       "        text-align: right;\n",
       "    }\n",
       "</style>\n",
       "<table border=\"1\" class=\"dataframe\">\n",
       "  <thead>\n",
       "    <tr style=\"text-align: right;\">\n",
       "      <th></th>\n",
       "      <th>0_Adoption</th>\n",
       "      <th>0_Died</th>\n",
       "      <th>0_Euthanasia</th>\n",
       "      <th>0_Return_to_owner</th>\n",
       "      <th>0_Transfer</th>\n",
       "    </tr>\n",
       "  </thead>\n",
       "  <tbody>\n",
       "    <tr>\n",
       "      <th>0</th>\n",
       "      <td>0</td>\n",
       "      <td>0</td>\n",
       "      <td>0</td>\n",
       "      <td>0</td>\n",
       "      <td>1</td>\n",
       "    </tr>\n",
       "    <tr>\n",
       "      <th>1</th>\n",
       "      <td>1</td>\n",
       "      <td>0</td>\n",
       "      <td>0</td>\n",
       "      <td>0</td>\n",
       "      <td>0</td>\n",
       "    </tr>\n",
       "    <tr>\n",
       "      <th>2</th>\n",
       "      <td>1</td>\n",
       "      <td>0</td>\n",
       "      <td>0</td>\n",
       "      <td>0</td>\n",
       "      <td>0</td>\n",
       "    </tr>\n",
       "    <tr>\n",
       "      <th>3</th>\n",
       "      <td>0</td>\n",
       "      <td>0</td>\n",
       "      <td>0</td>\n",
       "      <td>0</td>\n",
       "      <td>1</td>\n",
       "    </tr>\n",
       "    <tr>\n",
       "      <th>4</th>\n",
       "      <td>1</td>\n",
       "      <td>0</td>\n",
       "      <td>0</td>\n",
       "      <td>0</td>\n",
       "      <td>0</td>\n",
       "    </tr>\n",
       "    <tr>\n",
       "      <th>...</th>\n",
       "      <td>...</td>\n",
       "      <td>...</td>\n",
       "      <td>...</td>\n",
       "      <td>...</td>\n",
       "      <td>...</td>\n",
       "    </tr>\n",
       "    <tr>\n",
       "      <th>11451</th>\n",
       "      <td>0</td>\n",
       "      <td>0</td>\n",
       "      <td>0</td>\n",
       "      <td>0</td>\n",
       "      <td>1</td>\n",
       "    </tr>\n",
       "    <tr>\n",
       "      <th>11452</th>\n",
       "      <td>0</td>\n",
       "      <td>0</td>\n",
       "      <td>0</td>\n",
       "      <td>0</td>\n",
       "      <td>1</td>\n",
       "    </tr>\n",
       "    <tr>\n",
       "      <th>11453</th>\n",
       "      <td>0</td>\n",
       "      <td>0</td>\n",
       "      <td>0</td>\n",
       "      <td>0</td>\n",
       "      <td>1</td>\n",
       "    </tr>\n",
       "    <tr>\n",
       "      <th>11454</th>\n",
       "      <td>1</td>\n",
       "      <td>0</td>\n",
       "      <td>0</td>\n",
       "      <td>0</td>\n",
       "      <td>0</td>\n",
       "    </tr>\n",
       "    <tr>\n",
       "      <th>11455</th>\n",
       "      <td>0</td>\n",
       "      <td>0</td>\n",
       "      <td>0</td>\n",
       "      <td>0</td>\n",
       "      <td>1</td>\n",
       "    </tr>\n",
       "  </tbody>\n",
       "</table>\n",
       "<p>11456 rows × 5 columns</p>\n",
       "</div>"
      ],
      "text/plain": [
       "       0_Adoption  0_Died  0_Euthanasia  0_Return_to_owner  0_Transfer\n",
       "0               0       0             0                  0           1\n",
       "1               1       0             0                  0           0\n",
       "2               1       0             0                  0           0\n",
       "3               0       0             0                  0           1\n",
       "4               1       0             0                  0           0\n",
       "...           ...     ...           ...                ...         ...\n",
       "11451           0       0             0                  0           1\n",
       "11452           0       0             0                  0           1\n",
       "11453           0       0             0                  0           1\n",
       "11454           1       0             0                  0           0\n",
       "11455           0       0             0                  0           1\n",
       "\n",
       "[11456 rows x 5 columns]"
      ]
     },
     "execution_count": 114,
     "metadata": {},
     "output_type": "execute_result"
    }
   ],
   "source": [
    "predictions_one_hot"
   ]
  },
  {
   "cell_type": "markdown",
   "metadata": {},
   "source": [
    "Colums are renamed to match those in the sample submission form."
   ]
  },
  {
   "cell_type": "code",
   "execution_count": 115,
   "metadata": {},
   "outputs": [],
   "source": [
    "predictions_one_hot = predictions_one_hot.rename(columns={\"0_Adoption\": \"Adoption\", \"0_Died\": \"Died\", \"0_Euthanasia\": \"Euthanasia\",\n",
    "                  \"0_Return_to_owner\": \"Return_to_owner\", \"0_Transfer\": \"Transfer\"})"
   ]
  },
  {
   "cell_type": "markdown",
   "metadata": {},
   "source": [
    "An \"ID\" column is inserted, too."
   ]
  },
  {
   "cell_type": "code",
   "execution_count": 116,
   "metadata": {},
   "outputs": [],
   "source": [
    "predictions_one_hot.insert(0, \"ID\", range(1, 1 + len(predictions_one_hot)))"
   ]
  },
  {
   "cell_type": "code",
   "execution_count": 117,
   "metadata": {},
   "outputs": [
    {
     "data": {
      "text/html": [
       "<div>\n",
       "<style scoped>\n",
       "    .dataframe tbody tr th:only-of-type {\n",
       "        vertical-align: middle;\n",
       "    }\n",
       "\n",
       "    .dataframe tbody tr th {\n",
       "        vertical-align: top;\n",
       "    }\n",
       "\n",
       "    .dataframe thead th {\n",
       "        text-align: right;\n",
       "    }\n",
       "</style>\n",
       "<table border=\"1\" class=\"dataframe\">\n",
       "  <thead>\n",
       "    <tr style=\"text-align: right;\">\n",
       "      <th></th>\n",
       "      <th>ID</th>\n",
       "      <th>Adoption</th>\n",
       "      <th>Died</th>\n",
       "      <th>Euthanasia</th>\n",
       "      <th>Return_to_owner</th>\n",
       "      <th>Transfer</th>\n",
       "    </tr>\n",
       "  </thead>\n",
       "  <tbody>\n",
       "    <tr>\n",
       "      <th>0</th>\n",
       "      <td>1</td>\n",
       "      <td>0</td>\n",
       "      <td>0</td>\n",
       "      <td>0</td>\n",
       "      <td>0</td>\n",
       "      <td>1</td>\n",
       "    </tr>\n",
       "    <tr>\n",
       "      <th>1</th>\n",
       "      <td>2</td>\n",
       "      <td>1</td>\n",
       "      <td>0</td>\n",
       "      <td>0</td>\n",
       "      <td>0</td>\n",
       "      <td>0</td>\n",
       "    </tr>\n",
       "    <tr>\n",
       "      <th>2</th>\n",
       "      <td>3</td>\n",
       "      <td>1</td>\n",
       "      <td>0</td>\n",
       "      <td>0</td>\n",
       "      <td>0</td>\n",
       "      <td>0</td>\n",
       "    </tr>\n",
       "    <tr>\n",
       "      <th>3</th>\n",
       "      <td>4</td>\n",
       "      <td>0</td>\n",
       "      <td>0</td>\n",
       "      <td>0</td>\n",
       "      <td>0</td>\n",
       "      <td>1</td>\n",
       "    </tr>\n",
       "    <tr>\n",
       "      <th>4</th>\n",
       "      <td>5</td>\n",
       "      <td>1</td>\n",
       "      <td>0</td>\n",
       "      <td>0</td>\n",
       "      <td>0</td>\n",
       "      <td>0</td>\n",
       "    </tr>\n",
       "    <tr>\n",
       "      <th>...</th>\n",
       "      <td>...</td>\n",
       "      <td>...</td>\n",
       "      <td>...</td>\n",
       "      <td>...</td>\n",
       "      <td>...</td>\n",
       "      <td>...</td>\n",
       "    </tr>\n",
       "    <tr>\n",
       "      <th>11451</th>\n",
       "      <td>11452</td>\n",
       "      <td>0</td>\n",
       "      <td>0</td>\n",
       "      <td>0</td>\n",
       "      <td>0</td>\n",
       "      <td>1</td>\n",
       "    </tr>\n",
       "    <tr>\n",
       "      <th>11452</th>\n",
       "      <td>11453</td>\n",
       "      <td>0</td>\n",
       "      <td>0</td>\n",
       "      <td>0</td>\n",
       "      <td>0</td>\n",
       "      <td>1</td>\n",
       "    </tr>\n",
       "    <tr>\n",
       "      <th>11453</th>\n",
       "      <td>11454</td>\n",
       "      <td>0</td>\n",
       "      <td>0</td>\n",
       "      <td>0</td>\n",
       "      <td>0</td>\n",
       "      <td>1</td>\n",
       "    </tr>\n",
       "    <tr>\n",
       "      <th>11454</th>\n",
       "      <td>11455</td>\n",
       "      <td>1</td>\n",
       "      <td>0</td>\n",
       "      <td>0</td>\n",
       "      <td>0</td>\n",
       "      <td>0</td>\n",
       "    </tr>\n",
       "    <tr>\n",
       "      <th>11455</th>\n",
       "      <td>11456</td>\n",
       "      <td>0</td>\n",
       "      <td>0</td>\n",
       "      <td>0</td>\n",
       "      <td>0</td>\n",
       "      <td>1</td>\n",
       "    </tr>\n",
       "  </tbody>\n",
       "</table>\n",
       "<p>11456 rows × 6 columns</p>\n",
       "</div>"
      ],
      "text/plain": [
       "          ID  Adoption  Died  Euthanasia  Return_to_owner  Transfer\n",
       "0          1         0     0           0                0         1\n",
       "1          2         1     0           0                0         0\n",
       "2          3         1     0           0                0         0\n",
       "3          4         0     0           0                0         1\n",
       "4          5         1     0           0                0         0\n",
       "...      ...       ...   ...         ...              ...       ...\n",
       "11451  11452         0     0           0                0         1\n",
       "11452  11453         0     0           0                0         1\n",
       "11453  11454         0     0           0                0         1\n",
       "11454  11455         1     0           0                0         0\n",
       "11455  11456         0     0           0                0         1\n",
       "\n",
       "[11456 rows x 6 columns]"
      ]
     },
     "execution_count": 117,
     "metadata": {},
     "output_type": "execute_result"
    }
   ],
   "source": [
    "predictions_one_hot"
   ]
  },
  {
   "cell_type": "code",
   "execution_count": 118,
   "metadata": {},
   "outputs": [
    {
     "data": {
      "text/html": [
       "<div>\n",
       "<style scoped>\n",
       "    .dataframe tbody tr th:only-of-type {\n",
       "        vertical-align: middle;\n",
       "    }\n",
       "\n",
       "    .dataframe tbody tr th {\n",
       "        vertical-align: top;\n",
       "    }\n",
       "\n",
       "    .dataframe thead th {\n",
       "        text-align: right;\n",
       "    }\n",
       "</style>\n",
       "<table border=\"1\" class=\"dataframe\">\n",
       "  <thead>\n",
       "    <tr style=\"text-align: right;\">\n",
       "      <th></th>\n",
       "      <th>ID</th>\n",
       "      <th>Adoption</th>\n",
       "      <th>Died</th>\n",
       "      <th>Euthanasia</th>\n",
       "      <th>Return_to_owner</th>\n",
       "      <th>Transfer</th>\n",
       "    </tr>\n",
       "  </thead>\n",
       "  <tbody>\n",
       "    <tr>\n",
       "      <th>0</th>\n",
       "      <td>1</td>\n",
       "      <td>1</td>\n",
       "      <td>0</td>\n",
       "      <td>0</td>\n",
       "      <td>0</td>\n",
       "      <td>0</td>\n",
       "    </tr>\n",
       "    <tr>\n",
       "      <th>1</th>\n",
       "      <td>2</td>\n",
       "      <td>1</td>\n",
       "      <td>0</td>\n",
       "      <td>0</td>\n",
       "      <td>0</td>\n",
       "      <td>0</td>\n",
       "    </tr>\n",
       "    <tr>\n",
       "      <th>2</th>\n",
       "      <td>3</td>\n",
       "      <td>1</td>\n",
       "      <td>0</td>\n",
       "      <td>0</td>\n",
       "      <td>0</td>\n",
       "      <td>0</td>\n",
       "    </tr>\n",
       "    <tr>\n",
       "      <th>3</th>\n",
       "      <td>4</td>\n",
       "      <td>1</td>\n",
       "      <td>0</td>\n",
       "      <td>0</td>\n",
       "      <td>0</td>\n",
       "      <td>0</td>\n",
       "    </tr>\n",
       "    <tr>\n",
       "      <th>4</th>\n",
       "      <td>5</td>\n",
       "      <td>1</td>\n",
       "      <td>0</td>\n",
       "      <td>0</td>\n",
       "      <td>0</td>\n",
       "      <td>0</td>\n",
       "    </tr>\n",
       "  </tbody>\n",
       "</table>\n",
       "</div>"
      ],
      "text/plain": [
       "   ID  Adoption  Died  Euthanasia  Return_to_owner  Transfer\n",
       "0   1         1     0           0                0         0\n",
       "1   2         1     0           0                0         0\n",
       "2   3         1     0           0                0         0\n",
       "3   4         1     0           0                0         0\n",
       "4   5         1     0           0                0         0"
      ]
     },
     "execution_count": 118,
     "metadata": {},
     "output_type": "execute_result"
    }
   ],
   "source": [
    "sample_sumbission.head()"
   ]
  },
  {
   "cell_type": "markdown",
   "metadata": {},
   "source": [
    "Printing classification report, confusion matrix, or other visual metrics could not be computed since *y_true* for the testing data was not provided."
   ]
  }
 ],
 "metadata": {
  "kernelspec": {
   "display_name": "Python 3",
   "language": "python",
   "name": "python3"
  },
  "language_info": {
   "codemirror_mode": {
    "name": "ipython",
    "version": 3
   },
   "file_extension": ".py",
   "mimetype": "text/x-python",
   "name": "python",
   "nbconvert_exporter": "python",
   "pygments_lexer": "ipython3",
   "version": "3.7.9"
  }
 },
 "nbformat": 4,
 "nbformat_minor": 4
}
